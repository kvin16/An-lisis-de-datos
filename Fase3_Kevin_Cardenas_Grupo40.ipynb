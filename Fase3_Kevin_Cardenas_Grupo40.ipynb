{
  "nbformat": 4,
  "nbformat_minor": 0,
  "metadata": {
    "colab": {
      "provenance": [],
      "toc_visible": true,
      "collapsed_sections": [
        "sXcrdK_YiSgn",
        "ErxTLKSvoTZC",
        "8_jGD1Rlr-ts",
        "WzJ5FHqrD9ph",
        "KrI9w1kwFHQD",
        "_4AizxAm16WG",
        "0D0t-spbRvi6",
        "62VKYH37nE-1",
        "hpfzAO-epuNW",
        "Py0JoxSjpyid",
        "xGKSIBxpYaH5",
        "f4-xa0C5Yf8N",
        "iWUtHgCTYjA1"
      ]
    },
    "kernelspec": {
      "name": "python3",
      "display_name": "Python 3"
    },
    "language_info": {
      "name": "python"
    }
  },
  "cells": [
    {
      "cell_type": "markdown",
      "source": [
        "**Curso:** Machine Learning\n",
        "\n",
        "**Tarea:** Tarea 3\n",
        "Guía para el desarrollo del componente práctico\n",
        "\n",
        "**Presentado por:** Kevin Alejandro Cardenas Quinter\n",
        "\n",
        "**Grupo: 40**\n",
        "\n",
        "**Código:203008067**\n",
        "\n",
        "**Universidad Nacional Abierta y a Distancia – UNAD**\n",
        "\n",
        "**Fecha:08 Abril 2024**"
      ],
      "metadata": {
        "id": "Fn5lIj0dj7Ju"
      }
    },
    {
      "cell_type": "markdown",
      "source": [
        "# Acción 1: Aplicación modelos lineales."
      ],
      "metadata": {
        "id": "sXcrdK_YiSgn"
      }
    },
    {
      "cell_type": "markdown",
      "source": [
        "- a. Seleccionar una base de entrenamiento (80%) y una base de prueba (20%).\n",
        "- b. Con la base de entrenamiento aplicar un modelo de regresión lineal para predecir la productividad real a partir del número de trabajadores de cada equipo y el tiempo extra en minutos.\n",
        "- c. Realizar las predicciones sobre la base de prueba.\n",
        "- d. Con los resultados del ítem anterior, realizar un diagrama de dispersión, en el eje X ubicar los valores predichos y en el eje Y ubicar los valores de productividad real."
      ],
      "metadata": {
        "id": "BUoTqvt0lMmi"
      }
    },
    {
      "cell_type": "markdown",
      "source": [
        "### Importar librerias"
      ],
      "metadata": {
        "id": "ErxTLKSvoTZC"
      }
    },
    {
      "cell_type": "code",
      "source": [
        "import pandas as pd\n",
        "import matplotlib.pyplot as plt\n",
        "import seaborn as sns\n",
        "import numpy as np\n",
        "\n",
        "from sklearn.model_selection import train_test_split\n",
        "from sklearn.linear_model import LinearRegression\n",
        "from sklearn import metrics\n",
        "from sklearn.metrics import r2_score\n",
        "from sklearn.metrics import mean_squared_error\n",
        "\n",
        "from sklearn.model_selection import train_test_split\n",
        "from sklearn.linear_model import LinearRegression\n",
        "\n",
        "import random"
      ],
      "metadata": {
        "id": "SkmMymQwoOvD"
      },
      "execution_count": 78,
      "outputs": []
    },
    {
      "cell_type": "markdown",
      "source": [
        "### Cargar archivo"
      ],
      "metadata": {
        "id": "8_jGD1Rlr-ts"
      }
    },
    {
      "cell_type": "code",
      "source": [
        "from google.colab import drive\n",
        "drive.mount('/content/drive')"
      ],
      "metadata": {
        "id": "iw2MEVOdsU6A",
        "colab": {
          "base_uri": "https://localhost:8080/"
        },
        "outputId": "1ac8e8fd-3067-4fcf-f6e3-48dd7e3c46ed"
      },
      "execution_count": 79,
      "outputs": [
        {
          "output_type": "stream",
          "name": "stdout",
          "text": [
            "Drive already mounted at /content/drive; to attempt to forcibly remount, call drive.mount(\"/content/drive\", force_remount=True).\n"
          ]
        }
      ]
    },
    {
      "cell_type": "code",
      "source": [
        "\n",
        "df = pd.read_csv(\"/content/drive/MyDrive/Colab Notebooks/Anexo 2 - productividad_confeccion.csv\")\n",
        "df.head()"
      ],
      "metadata": {
        "colab": {
          "base_uri": "https://localhost:8080/",
          "height": 224
        },
        "id": "q-QKKM7_sA8j",
        "outputId": "37f35286-1945-4ce9-a96c-24aaffb07eb1"
      },
      "execution_count": 80,
      "outputs": [
        {
          "output_type": "execute_result",
          "data": {
            "text/plain": [
              "         date  day   quarter  department  team  targeted_productivity    smv  \\\n",
              "0  01/01/2015    5  Quarter1      sweing     8                   0.80  26.16   \n",
              "1  01/01/2015    5  Quarter1  finishing      1                   0.75   3.94   \n",
              "2  01/01/2015    5  Quarter1      sweing    11                   0.80  11.41   \n",
              "3  01/01/2015    5  Quarter1      sweing    12                   0.80  11.41   \n",
              "4  01/01/2015    5  Quarter1      sweing     6                   0.80  25.90   \n",
              "\n",
              "      wip  over_time  incentive  idle_time  idle_men  no_of_style_change  \\\n",
              "0  1108.0       7080         98        0.0         0                   0   \n",
              "1     0.0        960          0        0.0         0                   0   \n",
              "2   968.0       3660         50        0.0         0                   0   \n",
              "3   968.0       3660         50        0.0         0                   0   \n",
              "4  1170.0       1920         50        0.0         0                   0   \n",
              "\n",
              "   actual_productivity  no_of_workers  \n",
              "0             0.940725             32  \n",
              "1             0.886500             32  \n",
              "2             0.800570             32  \n",
              "3             0.800570             32  \n",
              "4             0.800382             32  "
            ],
            "text/html": [
              "\n",
              "  <div id=\"df-d98de067-7266-43cb-87f9-417aebe930ee\" class=\"colab-df-container\">\n",
              "    <div>\n",
              "<style scoped>\n",
              "    .dataframe tbody tr th:only-of-type {\n",
              "        vertical-align: middle;\n",
              "    }\n",
              "\n",
              "    .dataframe tbody tr th {\n",
              "        vertical-align: top;\n",
              "    }\n",
              "\n",
              "    .dataframe thead th {\n",
              "        text-align: right;\n",
              "    }\n",
              "</style>\n",
              "<table border=\"1\" class=\"dataframe\">\n",
              "  <thead>\n",
              "    <tr style=\"text-align: right;\">\n",
              "      <th></th>\n",
              "      <th>date</th>\n",
              "      <th>day</th>\n",
              "      <th>quarter</th>\n",
              "      <th>department</th>\n",
              "      <th>team</th>\n",
              "      <th>targeted_productivity</th>\n",
              "      <th>smv</th>\n",
              "      <th>wip</th>\n",
              "      <th>over_time</th>\n",
              "      <th>incentive</th>\n",
              "      <th>idle_time</th>\n",
              "      <th>idle_men</th>\n",
              "      <th>no_of_style_change</th>\n",
              "      <th>actual_productivity</th>\n",
              "      <th>no_of_workers</th>\n",
              "    </tr>\n",
              "  </thead>\n",
              "  <tbody>\n",
              "    <tr>\n",
              "      <th>0</th>\n",
              "      <td>01/01/2015</td>\n",
              "      <td>5</td>\n",
              "      <td>Quarter1</td>\n",
              "      <td>sweing</td>\n",
              "      <td>8</td>\n",
              "      <td>0.80</td>\n",
              "      <td>26.16</td>\n",
              "      <td>1108.0</td>\n",
              "      <td>7080</td>\n",
              "      <td>98</td>\n",
              "      <td>0.0</td>\n",
              "      <td>0</td>\n",
              "      <td>0</td>\n",
              "      <td>0.940725</td>\n",
              "      <td>32</td>\n",
              "    </tr>\n",
              "    <tr>\n",
              "      <th>1</th>\n",
              "      <td>01/01/2015</td>\n",
              "      <td>5</td>\n",
              "      <td>Quarter1</td>\n",
              "      <td>finishing</td>\n",
              "      <td>1</td>\n",
              "      <td>0.75</td>\n",
              "      <td>3.94</td>\n",
              "      <td>0.0</td>\n",
              "      <td>960</td>\n",
              "      <td>0</td>\n",
              "      <td>0.0</td>\n",
              "      <td>0</td>\n",
              "      <td>0</td>\n",
              "      <td>0.886500</td>\n",
              "      <td>32</td>\n",
              "    </tr>\n",
              "    <tr>\n",
              "      <th>2</th>\n",
              "      <td>01/01/2015</td>\n",
              "      <td>5</td>\n",
              "      <td>Quarter1</td>\n",
              "      <td>sweing</td>\n",
              "      <td>11</td>\n",
              "      <td>0.80</td>\n",
              "      <td>11.41</td>\n",
              "      <td>968.0</td>\n",
              "      <td>3660</td>\n",
              "      <td>50</td>\n",
              "      <td>0.0</td>\n",
              "      <td>0</td>\n",
              "      <td>0</td>\n",
              "      <td>0.800570</td>\n",
              "      <td>32</td>\n",
              "    </tr>\n",
              "    <tr>\n",
              "      <th>3</th>\n",
              "      <td>01/01/2015</td>\n",
              "      <td>5</td>\n",
              "      <td>Quarter1</td>\n",
              "      <td>sweing</td>\n",
              "      <td>12</td>\n",
              "      <td>0.80</td>\n",
              "      <td>11.41</td>\n",
              "      <td>968.0</td>\n",
              "      <td>3660</td>\n",
              "      <td>50</td>\n",
              "      <td>0.0</td>\n",
              "      <td>0</td>\n",
              "      <td>0</td>\n",
              "      <td>0.800570</td>\n",
              "      <td>32</td>\n",
              "    </tr>\n",
              "    <tr>\n",
              "      <th>4</th>\n",
              "      <td>01/01/2015</td>\n",
              "      <td>5</td>\n",
              "      <td>Quarter1</td>\n",
              "      <td>sweing</td>\n",
              "      <td>6</td>\n",
              "      <td>0.80</td>\n",
              "      <td>25.90</td>\n",
              "      <td>1170.0</td>\n",
              "      <td>1920</td>\n",
              "      <td>50</td>\n",
              "      <td>0.0</td>\n",
              "      <td>0</td>\n",
              "      <td>0</td>\n",
              "      <td>0.800382</td>\n",
              "      <td>32</td>\n",
              "    </tr>\n",
              "  </tbody>\n",
              "</table>\n",
              "</div>\n",
              "    <div class=\"colab-df-buttons\">\n",
              "\n",
              "  <div class=\"colab-df-container\">\n",
              "    <button class=\"colab-df-convert\" onclick=\"convertToInteractive('df-d98de067-7266-43cb-87f9-417aebe930ee')\"\n",
              "            title=\"Convert this dataframe to an interactive table.\"\n",
              "            style=\"display:none;\">\n",
              "\n",
              "  <svg xmlns=\"http://www.w3.org/2000/svg\" height=\"24px\" viewBox=\"0 -960 960 960\">\n",
              "    <path d=\"M120-120v-720h720v720H120Zm60-500h600v-160H180v160Zm220 220h160v-160H400v160Zm0 220h160v-160H400v160ZM180-400h160v-160H180v160Zm440 0h160v-160H620v160ZM180-180h160v-160H180v160Zm440 0h160v-160H620v160Z\"/>\n",
              "  </svg>\n",
              "    </button>\n",
              "\n",
              "  <style>\n",
              "    .colab-df-container {\n",
              "      display:flex;\n",
              "      gap: 12px;\n",
              "    }\n",
              "\n",
              "    .colab-df-convert {\n",
              "      background-color: #E8F0FE;\n",
              "      border: none;\n",
              "      border-radius: 50%;\n",
              "      cursor: pointer;\n",
              "      display: none;\n",
              "      fill: #1967D2;\n",
              "      height: 32px;\n",
              "      padding: 0 0 0 0;\n",
              "      width: 32px;\n",
              "    }\n",
              "\n",
              "    .colab-df-convert:hover {\n",
              "      background-color: #E2EBFA;\n",
              "      box-shadow: 0px 1px 2px rgba(60, 64, 67, 0.3), 0px 1px 3px 1px rgba(60, 64, 67, 0.15);\n",
              "      fill: #174EA6;\n",
              "    }\n",
              "\n",
              "    .colab-df-buttons div {\n",
              "      margin-bottom: 4px;\n",
              "    }\n",
              "\n",
              "    [theme=dark] .colab-df-convert {\n",
              "      background-color: #3B4455;\n",
              "      fill: #D2E3FC;\n",
              "    }\n",
              "\n",
              "    [theme=dark] .colab-df-convert:hover {\n",
              "      background-color: #434B5C;\n",
              "      box-shadow: 0px 1px 3px 1px rgba(0, 0, 0, 0.15);\n",
              "      filter: drop-shadow(0px 1px 2px rgba(0, 0, 0, 0.3));\n",
              "      fill: #FFFFFF;\n",
              "    }\n",
              "  </style>\n",
              "\n",
              "    <script>\n",
              "      const buttonEl =\n",
              "        document.querySelector('#df-d98de067-7266-43cb-87f9-417aebe930ee button.colab-df-convert');\n",
              "      buttonEl.style.display =\n",
              "        google.colab.kernel.accessAllowed ? 'block' : 'none';\n",
              "\n",
              "      async function convertToInteractive(key) {\n",
              "        const element = document.querySelector('#df-d98de067-7266-43cb-87f9-417aebe930ee');\n",
              "        const dataTable =\n",
              "          await google.colab.kernel.invokeFunction('convertToInteractive',\n",
              "                                                    [key], {});\n",
              "        if (!dataTable) return;\n",
              "\n",
              "        const docLinkHtml = 'Like what you see? Visit the ' +\n",
              "          '<a target=\"_blank\" href=https://colab.research.google.com/notebooks/data_table.ipynb>data table notebook</a>'\n",
              "          + ' to learn more about interactive tables.';\n",
              "        element.innerHTML = '';\n",
              "        dataTable['output_type'] = 'display_data';\n",
              "        await google.colab.output.renderOutput(dataTable, element);\n",
              "        const docLink = document.createElement('div');\n",
              "        docLink.innerHTML = docLinkHtml;\n",
              "        element.appendChild(docLink);\n",
              "      }\n",
              "    </script>\n",
              "  </div>\n",
              "\n",
              "\n",
              "<div id=\"df-0c5aa1f3-a73f-40bc-96b3-82fe45b1bf5f\">\n",
              "  <button class=\"colab-df-quickchart\" onclick=\"quickchart('df-0c5aa1f3-a73f-40bc-96b3-82fe45b1bf5f')\"\n",
              "            title=\"Suggest charts\"\n",
              "            style=\"display:none;\">\n",
              "\n",
              "<svg xmlns=\"http://www.w3.org/2000/svg\" height=\"24px\"viewBox=\"0 0 24 24\"\n",
              "     width=\"24px\">\n",
              "    <g>\n",
              "        <path d=\"M19 3H5c-1.1 0-2 .9-2 2v14c0 1.1.9 2 2 2h14c1.1 0 2-.9 2-2V5c0-1.1-.9-2-2-2zM9 17H7v-7h2v7zm4 0h-2V7h2v10zm4 0h-2v-4h2v4z\"/>\n",
              "    </g>\n",
              "</svg>\n",
              "  </button>\n",
              "\n",
              "<style>\n",
              "  .colab-df-quickchart {\n",
              "      --bg-color: #E8F0FE;\n",
              "      --fill-color: #1967D2;\n",
              "      --hover-bg-color: #E2EBFA;\n",
              "      --hover-fill-color: #174EA6;\n",
              "      --disabled-fill-color: #AAA;\n",
              "      --disabled-bg-color: #DDD;\n",
              "  }\n",
              "\n",
              "  [theme=dark] .colab-df-quickchart {\n",
              "      --bg-color: #3B4455;\n",
              "      --fill-color: #D2E3FC;\n",
              "      --hover-bg-color: #434B5C;\n",
              "      --hover-fill-color: #FFFFFF;\n",
              "      --disabled-bg-color: #3B4455;\n",
              "      --disabled-fill-color: #666;\n",
              "  }\n",
              "\n",
              "  .colab-df-quickchart {\n",
              "    background-color: var(--bg-color);\n",
              "    border: none;\n",
              "    border-radius: 50%;\n",
              "    cursor: pointer;\n",
              "    display: none;\n",
              "    fill: var(--fill-color);\n",
              "    height: 32px;\n",
              "    padding: 0;\n",
              "    width: 32px;\n",
              "  }\n",
              "\n",
              "  .colab-df-quickchart:hover {\n",
              "    background-color: var(--hover-bg-color);\n",
              "    box-shadow: 0 1px 2px rgba(60, 64, 67, 0.3), 0 1px 3px 1px rgba(60, 64, 67, 0.15);\n",
              "    fill: var(--button-hover-fill-color);\n",
              "  }\n",
              "\n",
              "  .colab-df-quickchart-complete:disabled,\n",
              "  .colab-df-quickchart-complete:disabled:hover {\n",
              "    background-color: var(--disabled-bg-color);\n",
              "    fill: var(--disabled-fill-color);\n",
              "    box-shadow: none;\n",
              "  }\n",
              "\n",
              "  .colab-df-spinner {\n",
              "    border: 2px solid var(--fill-color);\n",
              "    border-color: transparent;\n",
              "    border-bottom-color: var(--fill-color);\n",
              "    animation:\n",
              "      spin 1s steps(1) infinite;\n",
              "  }\n",
              "\n",
              "  @keyframes spin {\n",
              "    0% {\n",
              "      border-color: transparent;\n",
              "      border-bottom-color: var(--fill-color);\n",
              "      border-left-color: var(--fill-color);\n",
              "    }\n",
              "    20% {\n",
              "      border-color: transparent;\n",
              "      border-left-color: var(--fill-color);\n",
              "      border-top-color: var(--fill-color);\n",
              "    }\n",
              "    30% {\n",
              "      border-color: transparent;\n",
              "      border-left-color: var(--fill-color);\n",
              "      border-top-color: var(--fill-color);\n",
              "      border-right-color: var(--fill-color);\n",
              "    }\n",
              "    40% {\n",
              "      border-color: transparent;\n",
              "      border-right-color: var(--fill-color);\n",
              "      border-top-color: var(--fill-color);\n",
              "    }\n",
              "    60% {\n",
              "      border-color: transparent;\n",
              "      border-right-color: var(--fill-color);\n",
              "    }\n",
              "    80% {\n",
              "      border-color: transparent;\n",
              "      border-right-color: var(--fill-color);\n",
              "      border-bottom-color: var(--fill-color);\n",
              "    }\n",
              "    90% {\n",
              "      border-color: transparent;\n",
              "      border-bottom-color: var(--fill-color);\n",
              "    }\n",
              "  }\n",
              "</style>\n",
              "\n",
              "  <script>\n",
              "    async function quickchart(key) {\n",
              "      const quickchartButtonEl =\n",
              "        document.querySelector('#' + key + ' button');\n",
              "      quickchartButtonEl.disabled = true;  // To prevent multiple clicks.\n",
              "      quickchartButtonEl.classList.add('colab-df-spinner');\n",
              "      try {\n",
              "        const charts = await google.colab.kernel.invokeFunction(\n",
              "            'suggestCharts', [key], {});\n",
              "      } catch (error) {\n",
              "        console.error('Error during call to suggestCharts:', error);\n",
              "      }\n",
              "      quickchartButtonEl.classList.remove('colab-df-spinner');\n",
              "      quickchartButtonEl.classList.add('colab-df-quickchart-complete');\n",
              "    }\n",
              "    (() => {\n",
              "      let quickchartButtonEl =\n",
              "        document.querySelector('#df-0c5aa1f3-a73f-40bc-96b3-82fe45b1bf5f button');\n",
              "      quickchartButtonEl.style.display =\n",
              "        google.colab.kernel.accessAllowed ? 'block' : 'none';\n",
              "    })();\n",
              "  </script>\n",
              "</div>\n",
              "\n",
              "    </div>\n",
              "  </div>\n"
            ],
            "application/vnd.google.colaboratory.intrinsic+json": {
              "type": "dataframe",
              "variable_name": "df",
              "summary": "{\n  \"name\": \"df\",\n  \"rows\": 1176,\n  \"fields\": [\n    {\n      \"column\": \"date\",\n      \"properties\": {\n        \"dtype\": \"object\",\n        \"num_unique_values\": 59,\n        \"samples\": [\n          \"01/01/2015\",\n          \"01/07/2015\",\n          \"02/10/2015\"\n        ],\n        \"semantic_type\": \"\",\n        \"description\": \"\"\n      }\n    },\n    {\n      \"column\": \"day\",\n      \"properties\": {\n        \"dtype\": \"number\",\n        \"std\": 1,\n        \"min\": 1,\n        \"max\": 7,\n        \"num_unique_values\": 6,\n        \"samples\": [\n          5,\n          7,\n          4\n        ],\n        \"semantic_type\": \"\",\n        \"description\": \"\"\n      }\n    },\n    {\n      \"column\": \"quarter\",\n      \"properties\": {\n        \"dtype\": \"category\",\n        \"num_unique_values\": 5,\n        \"samples\": [\n          \"Quarter2\",\n          \"Quarter5\",\n          \"Quarter3\"\n        ],\n        \"semantic_type\": \"\",\n        \"description\": \"\"\n      }\n    },\n    {\n      \"column\": \"department\",\n      \"properties\": {\n        \"dtype\": \"category\",\n        \"num_unique_values\": 3,\n        \"samples\": [\n          \"sweing\",\n          \"finishing \",\n          \"finishing\"\n        ],\n        \"semantic_type\": \"\",\n        \"description\": \"\"\n      }\n    },\n    {\n      \"column\": \"team\",\n      \"properties\": {\n        \"dtype\": \"number\",\n        \"std\": 3,\n        \"min\": 1,\n        \"max\": 12,\n        \"num_unique_values\": 12,\n        \"samples\": [\n          5,\n          10,\n          8\n        ],\n        \"semantic_type\": \"\",\n        \"description\": \"\"\n      }\n    },\n    {\n      \"column\": \"targeted_productivity\",\n      \"properties\": {\n        \"dtype\": \"number\",\n        \"std\": 0.09780083464174424,\n        \"min\": 0.07,\n        \"max\": 0.8,\n        \"num_unique_values\": 9,\n        \"samples\": [\n          0.07,\n          0.75,\n          0.5\n        ],\n        \"semantic_type\": \"\",\n        \"description\": \"\"\n      }\n    },\n    {\n      \"column\": \"smv\",\n      \"properties\": {\n        \"dtype\": \"number\",\n        \"std\": 10.968143488050659,\n        \"min\": 2.9,\n        \"max\": 54.56,\n        \"num_unique_values\": 69,\n        \"samples\": [\n          14.61,\n          26.16,\n          24.26\n        ],\n        \"semantic_type\": \"\",\n        \"description\": \"\"\n      }\n    },\n    {\n      \"column\": \"wip\",\n      \"properties\": {\n        \"dtype\": \"number\",\n        \"std\": 569.7301898924252,\n        \"min\": 0.0,\n        \"max\": 2698.0,\n        \"num_unique_values\": 540,\n        \"samples\": [\n          1871.0,\n          857.0,\n          953.0\n        ],\n        \"semantic_type\": \"\",\n        \"description\": \"\"\n      }\n    },\n    {\n      \"column\": \"over_time\",\n      \"properties\": {\n        \"dtype\": \"number\",\n        \"std\": 3286,\n        \"min\": 0,\n        \"max\": 15120,\n        \"num_unique_values\": 142,\n        \"samples\": [\n          5520,\n          6780,\n          7470\n        ],\n        \"semantic_type\": \"\",\n        \"description\": \"\"\n      }\n    },\n    {\n      \"column\": \"incentive\",\n      \"properties\": {\n        \"dtype\": \"number\",\n        \"std\": 30,\n        \"min\": 0,\n        \"max\": 119,\n        \"num_unique_values\": 41,\n        \"samples\": [\n          94,\n          23,\n          56\n        ],\n        \"semantic_type\": \"\",\n        \"description\": \"\"\n      }\n    },\n    {\n      \"column\": \"idle_time\",\n      \"properties\": {\n        \"dtype\": \"number\",\n        \"std\": 12.822451904083605,\n        \"min\": 0.0,\n        \"max\": 300.0,\n        \"num_unique_values\": 12,\n        \"samples\": [\n          4.0,\n          3.5,\n          0.0\n        ],\n        \"semantic_type\": \"\",\n        \"description\": \"\"\n      }\n    },\n    {\n      \"column\": \"idle_men\",\n      \"properties\": {\n        \"dtype\": \"number\",\n        \"std\": 3,\n        \"min\": 0,\n        \"max\": 45,\n        \"num_unique_values\": 10,\n        \"samples\": [\n          25,\n          10,\n          30\n        ],\n        \"semantic_type\": \"\",\n        \"description\": \"\"\n      }\n    },\n    {\n      \"column\": \"no_of_style_change\",\n      \"properties\": {\n        \"dtype\": \"number\",\n        \"std\": 0,\n        \"min\": 0,\n        \"max\": 2,\n        \"num_unique_values\": 3,\n        \"samples\": [\n          0,\n          1,\n          2\n        ],\n        \"semantic_type\": \"\",\n        \"description\": \"\"\n      }\n    },\n    {\n      \"column\": \"actual_productivity\",\n      \"properties\": {\n        \"dtype\": \"number\",\n        \"std\": 0.17395200768219443,\n        \"min\": 0.233705476,\n        \"max\": 1.1204375,\n        \"num_unique_values\": 862,\n        \"samples\": [\n          0.750716981,\n          0.361071429,\n          0.846950758\n        ],\n        \"semantic_type\": \"\",\n        \"description\": \"\"\n      }\n    },\n    {\n      \"column\": \"no_of_workers\",\n      \"properties\": {\n        \"dtype\": \"number\",\n        \"std\": 4,\n        \"min\": 14,\n        \"max\": 40,\n        \"num_unique_values\": 9,\n        \"samples\": [\n          31,\n          29,\n          15\n        ],\n        \"semantic_type\": \"\",\n        \"description\": \"\"\n      }\n    }\n  ]\n}"
            }
          },
          "metadata": {},
          "execution_count": 80
        }
      ]
    },
    {
      "cell_type": "code",
      "source": [
        "df.shape"
      ],
      "metadata": {
        "colab": {
          "base_uri": "https://localhost:8080/"
        },
        "id": "XaQwGQVoHggZ",
        "outputId": "1b5203bb-527e-4901-f53a-8f432942fd56"
      },
      "execution_count": 81,
      "outputs": [
        {
          "output_type": "execute_result",
          "data": {
            "text/plain": [
              "(1176, 15)"
            ]
          },
          "metadata": {},
          "execution_count": 81
        }
      ]
    },
    {
      "cell_type": "code",
      "source": [
        "df.info()"
      ],
      "metadata": {
        "colab": {
          "base_uri": "https://localhost:8080/"
        },
        "id": "gyeFrUffbqb1",
        "outputId": "22878e22-a4a8-4b50-b387-2883093b8d9b"
      },
      "execution_count": 82,
      "outputs": [
        {
          "output_type": "stream",
          "name": "stdout",
          "text": [
            "<class 'pandas.core.frame.DataFrame'>\n",
            "RangeIndex: 1176 entries, 0 to 1175\n",
            "Data columns (total 15 columns):\n",
            " #   Column                 Non-Null Count  Dtype  \n",
            "---  ------                 --------------  -----  \n",
            " 0   date                   1176 non-null   object \n",
            " 1   day                    1176 non-null   int64  \n",
            " 2   quarter                1176 non-null   object \n",
            " 3   department             1176 non-null   object \n",
            " 4   team                   1176 non-null   int64  \n",
            " 5   targeted_productivity  1176 non-null   float64\n",
            " 6   smv                    1176 non-null   float64\n",
            " 7   wip                    1176 non-null   float64\n",
            " 8   over_time              1176 non-null   int64  \n",
            " 9   incentive              1176 non-null   int64  \n",
            " 10  idle_time              1176 non-null   float64\n",
            " 11  idle_men               1176 non-null   int64  \n",
            " 12  no_of_style_change     1176 non-null   int64  \n",
            " 13  actual_productivity    1176 non-null   float64\n",
            " 14  no_of_workers          1176 non-null   int64  \n",
            "dtypes: float64(5), int64(7), object(3)\n",
            "memory usage: 137.9+ KB\n"
          ]
        }
      ]
    },
    {
      "cell_type": "code",
      "source": [
        "df_variables = df[['no_of_workers', 'over_time', 'actual_productivity']] #Variables de interes para la regresion lineal\n",
        "df_variables"
      ],
      "metadata": {
        "colab": {
          "base_uri": "https://localhost:8080/",
          "height": 439
        },
        "id": "8nWWIX9BcXYm",
        "outputId": "7c4a1299-0ed5-4d0b-97de-37cad8b125c0"
      },
      "execution_count": 83,
      "outputs": [
        {
          "output_type": "execute_result",
          "data": {
            "text/plain": [
              "      no_of_workers  over_time  actual_productivity\n",
              "0                32       7080             0.940725\n",
              "1                32        960             0.886500\n",
              "2                32       3660             0.800570\n",
              "3                32       3660             0.800570\n",
              "4                32       1920             0.800382\n",
              "...             ...        ...                  ...\n",
              "1171             24        960             0.628333\n",
              "1172             24        960             0.625625\n",
              "1173             24        960             0.625625\n",
              "1174             26       1800             0.505889\n",
              "1175             15        720             0.394722\n",
              "\n",
              "[1176 rows x 3 columns]"
            ],
            "text/html": [
              "\n",
              "  <div id=\"df-5f566510-8512-43d1-abca-62f50b3bdd63\" class=\"colab-df-container\">\n",
              "    <div>\n",
              "<style scoped>\n",
              "    .dataframe tbody tr th:only-of-type {\n",
              "        vertical-align: middle;\n",
              "    }\n",
              "\n",
              "    .dataframe tbody tr th {\n",
              "        vertical-align: top;\n",
              "    }\n",
              "\n",
              "    .dataframe thead th {\n",
              "        text-align: right;\n",
              "    }\n",
              "</style>\n",
              "<table border=\"1\" class=\"dataframe\">\n",
              "  <thead>\n",
              "    <tr style=\"text-align: right;\">\n",
              "      <th></th>\n",
              "      <th>no_of_workers</th>\n",
              "      <th>over_time</th>\n",
              "      <th>actual_productivity</th>\n",
              "    </tr>\n",
              "  </thead>\n",
              "  <tbody>\n",
              "    <tr>\n",
              "      <th>0</th>\n",
              "      <td>32</td>\n",
              "      <td>7080</td>\n",
              "      <td>0.940725</td>\n",
              "    </tr>\n",
              "    <tr>\n",
              "      <th>1</th>\n",
              "      <td>32</td>\n",
              "      <td>960</td>\n",
              "      <td>0.886500</td>\n",
              "    </tr>\n",
              "    <tr>\n",
              "      <th>2</th>\n",
              "      <td>32</td>\n",
              "      <td>3660</td>\n",
              "      <td>0.800570</td>\n",
              "    </tr>\n",
              "    <tr>\n",
              "      <th>3</th>\n",
              "      <td>32</td>\n",
              "      <td>3660</td>\n",
              "      <td>0.800570</td>\n",
              "    </tr>\n",
              "    <tr>\n",
              "      <th>4</th>\n",
              "      <td>32</td>\n",
              "      <td>1920</td>\n",
              "      <td>0.800382</td>\n",
              "    </tr>\n",
              "    <tr>\n",
              "      <th>...</th>\n",
              "      <td>...</td>\n",
              "      <td>...</td>\n",
              "      <td>...</td>\n",
              "    </tr>\n",
              "    <tr>\n",
              "      <th>1171</th>\n",
              "      <td>24</td>\n",
              "      <td>960</td>\n",
              "      <td>0.628333</td>\n",
              "    </tr>\n",
              "    <tr>\n",
              "      <th>1172</th>\n",
              "      <td>24</td>\n",
              "      <td>960</td>\n",
              "      <td>0.625625</td>\n",
              "    </tr>\n",
              "    <tr>\n",
              "      <th>1173</th>\n",
              "      <td>24</td>\n",
              "      <td>960</td>\n",
              "      <td>0.625625</td>\n",
              "    </tr>\n",
              "    <tr>\n",
              "      <th>1174</th>\n",
              "      <td>26</td>\n",
              "      <td>1800</td>\n",
              "      <td>0.505889</td>\n",
              "    </tr>\n",
              "    <tr>\n",
              "      <th>1175</th>\n",
              "      <td>15</td>\n",
              "      <td>720</td>\n",
              "      <td>0.394722</td>\n",
              "    </tr>\n",
              "  </tbody>\n",
              "</table>\n",
              "<p>1176 rows × 3 columns</p>\n",
              "</div>\n",
              "    <div class=\"colab-df-buttons\">\n",
              "\n",
              "  <div class=\"colab-df-container\">\n",
              "    <button class=\"colab-df-convert\" onclick=\"convertToInteractive('df-5f566510-8512-43d1-abca-62f50b3bdd63')\"\n",
              "            title=\"Convert this dataframe to an interactive table.\"\n",
              "            style=\"display:none;\">\n",
              "\n",
              "  <svg xmlns=\"http://www.w3.org/2000/svg\" height=\"24px\" viewBox=\"0 -960 960 960\">\n",
              "    <path d=\"M120-120v-720h720v720H120Zm60-500h600v-160H180v160Zm220 220h160v-160H400v160Zm0 220h160v-160H400v160ZM180-400h160v-160H180v160Zm440 0h160v-160H620v160ZM180-180h160v-160H180v160Zm440 0h160v-160H620v160Z\"/>\n",
              "  </svg>\n",
              "    </button>\n",
              "\n",
              "  <style>\n",
              "    .colab-df-container {\n",
              "      display:flex;\n",
              "      gap: 12px;\n",
              "    }\n",
              "\n",
              "    .colab-df-convert {\n",
              "      background-color: #E8F0FE;\n",
              "      border: none;\n",
              "      border-radius: 50%;\n",
              "      cursor: pointer;\n",
              "      display: none;\n",
              "      fill: #1967D2;\n",
              "      height: 32px;\n",
              "      padding: 0 0 0 0;\n",
              "      width: 32px;\n",
              "    }\n",
              "\n",
              "    .colab-df-convert:hover {\n",
              "      background-color: #E2EBFA;\n",
              "      box-shadow: 0px 1px 2px rgba(60, 64, 67, 0.3), 0px 1px 3px 1px rgba(60, 64, 67, 0.15);\n",
              "      fill: #174EA6;\n",
              "    }\n",
              "\n",
              "    .colab-df-buttons div {\n",
              "      margin-bottom: 4px;\n",
              "    }\n",
              "\n",
              "    [theme=dark] .colab-df-convert {\n",
              "      background-color: #3B4455;\n",
              "      fill: #D2E3FC;\n",
              "    }\n",
              "\n",
              "    [theme=dark] .colab-df-convert:hover {\n",
              "      background-color: #434B5C;\n",
              "      box-shadow: 0px 1px 3px 1px rgba(0, 0, 0, 0.15);\n",
              "      filter: drop-shadow(0px 1px 2px rgba(0, 0, 0, 0.3));\n",
              "      fill: #FFFFFF;\n",
              "    }\n",
              "  </style>\n",
              "\n",
              "    <script>\n",
              "      const buttonEl =\n",
              "        document.querySelector('#df-5f566510-8512-43d1-abca-62f50b3bdd63 button.colab-df-convert');\n",
              "      buttonEl.style.display =\n",
              "        google.colab.kernel.accessAllowed ? 'block' : 'none';\n",
              "\n",
              "      async function convertToInteractive(key) {\n",
              "        const element = document.querySelector('#df-5f566510-8512-43d1-abca-62f50b3bdd63');\n",
              "        const dataTable =\n",
              "          await google.colab.kernel.invokeFunction('convertToInteractive',\n",
              "                                                    [key], {});\n",
              "        if (!dataTable) return;\n",
              "\n",
              "        const docLinkHtml = 'Like what you see? Visit the ' +\n",
              "          '<a target=\"_blank\" href=https://colab.research.google.com/notebooks/data_table.ipynb>data table notebook</a>'\n",
              "          + ' to learn more about interactive tables.';\n",
              "        element.innerHTML = '';\n",
              "        dataTable['output_type'] = 'display_data';\n",
              "        await google.colab.output.renderOutput(dataTable, element);\n",
              "        const docLink = document.createElement('div');\n",
              "        docLink.innerHTML = docLinkHtml;\n",
              "        element.appendChild(docLink);\n",
              "      }\n",
              "    </script>\n",
              "  </div>\n",
              "\n",
              "\n",
              "<div id=\"df-0571271c-c41c-4677-a1b4-3c26c61d7703\">\n",
              "  <button class=\"colab-df-quickchart\" onclick=\"quickchart('df-0571271c-c41c-4677-a1b4-3c26c61d7703')\"\n",
              "            title=\"Suggest charts\"\n",
              "            style=\"display:none;\">\n",
              "\n",
              "<svg xmlns=\"http://www.w3.org/2000/svg\" height=\"24px\"viewBox=\"0 0 24 24\"\n",
              "     width=\"24px\">\n",
              "    <g>\n",
              "        <path d=\"M19 3H5c-1.1 0-2 .9-2 2v14c0 1.1.9 2 2 2h14c1.1 0 2-.9 2-2V5c0-1.1-.9-2-2-2zM9 17H7v-7h2v7zm4 0h-2V7h2v10zm4 0h-2v-4h2v4z\"/>\n",
              "    </g>\n",
              "</svg>\n",
              "  </button>\n",
              "\n",
              "<style>\n",
              "  .colab-df-quickchart {\n",
              "      --bg-color: #E8F0FE;\n",
              "      --fill-color: #1967D2;\n",
              "      --hover-bg-color: #E2EBFA;\n",
              "      --hover-fill-color: #174EA6;\n",
              "      --disabled-fill-color: #AAA;\n",
              "      --disabled-bg-color: #DDD;\n",
              "  }\n",
              "\n",
              "  [theme=dark] .colab-df-quickchart {\n",
              "      --bg-color: #3B4455;\n",
              "      --fill-color: #D2E3FC;\n",
              "      --hover-bg-color: #434B5C;\n",
              "      --hover-fill-color: #FFFFFF;\n",
              "      --disabled-bg-color: #3B4455;\n",
              "      --disabled-fill-color: #666;\n",
              "  }\n",
              "\n",
              "  .colab-df-quickchart {\n",
              "    background-color: var(--bg-color);\n",
              "    border: none;\n",
              "    border-radius: 50%;\n",
              "    cursor: pointer;\n",
              "    display: none;\n",
              "    fill: var(--fill-color);\n",
              "    height: 32px;\n",
              "    padding: 0;\n",
              "    width: 32px;\n",
              "  }\n",
              "\n",
              "  .colab-df-quickchart:hover {\n",
              "    background-color: var(--hover-bg-color);\n",
              "    box-shadow: 0 1px 2px rgba(60, 64, 67, 0.3), 0 1px 3px 1px rgba(60, 64, 67, 0.15);\n",
              "    fill: var(--button-hover-fill-color);\n",
              "  }\n",
              "\n",
              "  .colab-df-quickchart-complete:disabled,\n",
              "  .colab-df-quickchart-complete:disabled:hover {\n",
              "    background-color: var(--disabled-bg-color);\n",
              "    fill: var(--disabled-fill-color);\n",
              "    box-shadow: none;\n",
              "  }\n",
              "\n",
              "  .colab-df-spinner {\n",
              "    border: 2px solid var(--fill-color);\n",
              "    border-color: transparent;\n",
              "    border-bottom-color: var(--fill-color);\n",
              "    animation:\n",
              "      spin 1s steps(1) infinite;\n",
              "  }\n",
              "\n",
              "  @keyframes spin {\n",
              "    0% {\n",
              "      border-color: transparent;\n",
              "      border-bottom-color: var(--fill-color);\n",
              "      border-left-color: var(--fill-color);\n",
              "    }\n",
              "    20% {\n",
              "      border-color: transparent;\n",
              "      border-left-color: var(--fill-color);\n",
              "      border-top-color: var(--fill-color);\n",
              "    }\n",
              "    30% {\n",
              "      border-color: transparent;\n",
              "      border-left-color: var(--fill-color);\n",
              "      border-top-color: var(--fill-color);\n",
              "      border-right-color: var(--fill-color);\n",
              "    }\n",
              "    40% {\n",
              "      border-color: transparent;\n",
              "      border-right-color: var(--fill-color);\n",
              "      border-top-color: var(--fill-color);\n",
              "    }\n",
              "    60% {\n",
              "      border-color: transparent;\n",
              "      border-right-color: var(--fill-color);\n",
              "    }\n",
              "    80% {\n",
              "      border-color: transparent;\n",
              "      border-right-color: var(--fill-color);\n",
              "      border-bottom-color: var(--fill-color);\n",
              "    }\n",
              "    90% {\n",
              "      border-color: transparent;\n",
              "      border-bottom-color: var(--fill-color);\n",
              "    }\n",
              "  }\n",
              "</style>\n",
              "\n",
              "  <script>\n",
              "    async function quickchart(key) {\n",
              "      const quickchartButtonEl =\n",
              "        document.querySelector('#' + key + ' button');\n",
              "      quickchartButtonEl.disabled = true;  // To prevent multiple clicks.\n",
              "      quickchartButtonEl.classList.add('colab-df-spinner');\n",
              "      try {\n",
              "        const charts = await google.colab.kernel.invokeFunction(\n",
              "            'suggestCharts', [key], {});\n",
              "      } catch (error) {\n",
              "        console.error('Error during call to suggestCharts:', error);\n",
              "      }\n",
              "      quickchartButtonEl.classList.remove('colab-df-spinner');\n",
              "      quickchartButtonEl.classList.add('colab-df-quickchart-complete');\n",
              "    }\n",
              "    (() => {\n",
              "      let quickchartButtonEl =\n",
              "        document.querySelector('#df-0571271c-c41c-4677-a1b4-3c26c61d7703 button');\n",
              "      quickchartButtonEl.style.display =\n",
              "        google.colab.kernel.accessAllowed ? 'block' : 'none';\n",
              "    })();\n",
              "  </script>\n",
              "</div>\n",
              "\n",
              "  <div id=\"id_1fba3de7-7b88-433b-9dcf-92587c8a05d0\">\n",
              "    <style>\n",
              "      .colab-df-generate {\n",
              "        background-color: #E8F0FE;\n",
              "        border: none;\n",
              "        border-radius: 50%;\n",
              "        cursor: pointer;\n",
              "        display: none;\n",
              "        fill: #1967D2;\n",
              "        height: 32px;\n",
              "        padding: 0 0 0 0;\n",
              "        width: 32px;\n",
              "      }\n",
              "\n",
              "      .colab-df-generate:hover {\n",
              "        background-color: #E2EBFA;\n",
              "        box-shadow: 0px 1px 2px rgba(60, 64, 67, 0.3), 0px 1px 3px 1px rgba(60, 64, 67, 0.15);\n",
              "        fill: #174EA6;\n",
              "      }\n",
              "\n",
              "      [theme=dark] .colab-df-generate {\n",
              "        background-color: #3B4455;\n",
              "        fill: #D2E3FC;\n",
              "      }\n",
              "\n",
              "      [theme=dark] .colab-df-generate:hover {\n",
              "        background-color: #434B5C;\n",
              "        box-shadow: 0px 1px 3px 1px rgba(0, 0, 0, 0.15);\n",
              "        filter: drop-shadow(0px 1px 2px rgba(0, 0, 0, 0.3));\n",
              "        fill: #FFFFFF;\n",
              "      }\n",
              "    </style>\n",
              "    <button class=\"colab-df-generate\" onclick=\"generateWithVariable('df_variables')\"\n",
              "            title=\"Generate code using this dataframe.\"\n",
              "            style=\"display:none;\">\n",
              "\n",
              "  <svg xmlns=\"http://www.w3.org/2000/svg\" height=\"24px\"viewBox=\"0 0 24 24\"\n",
              "       width=\"24px\">\n",
              "    <path d=\"M7,19H8.4L18.45,9,17,7.55,7,17.6ZM5,21V16.75L18.45,3.32a2,2,0,0,1,2.83,0l1.4,1.43a1.91,1.91,0,0,1,.58,1.4,1.91,1.91,0,0,1-.58,1.4L9.25,21ZM18.45,9,17,7.55Zm-12,3A5.31,5.31,0,0,0,4.9,8.1,5.31,5.31,0,0,0,1,6.5,5.31,5.31,0,0,0,4.9,4.9,5.31,5.31,0,0,0,6.5,1,5.31,5.31,0,0,0,8.1,4.9,5.31,5.31,0,0,0,12,6.5,5.46,5.46,0,0,0,6.5,12Z\"/>\n",
              "  </svg>\n",
              "    </button>\n",
              "    <script>\n",
              "      (() => {\n",
              "      const buttonEl =\n",
              "        document.querySelector('#id_1fba3de7-7b88-433b-9dcf-92587c8a05d0 button.colab-df-generate');\n",
              "      buttonEl.style.display =\n",
              "        google.colab.kernel.accessAllowed ? 'block' : 'none';\n",
              "\n",
              "      buttonEl.onclick = () => {\n",
              "        google.colab.notebook.generateWithVariable('df_variables');\n",
              "      }\n",
              "      })();\n",
              "    </script>\n",
              "  </div>\n",
              "\n",
              "    </div>\n",
              "  </div>\n"
            ],
            "application/vnd.google.colaboratory.intrinsic+json": {
              "type": "dataframe",
              "variable_name": "df_variables",
              "summary": "{\n  \"name\": \"df_variables\",\n  \"rows\": 1176,\n  \"fields\": [\n    {\n      \"column\": \"no_of_workers\",\n      \"properties\": {\n        \"dtype\": \"number\",\n        \"std\": 4,\n        \"min\": 14,\n        \"max\": 40,\n        \"num_unique_values\": 9,\n        \"samples\": [\n          31,\n          29,\n          15\n        ],\n        \"semantic_type\": \"\",\n        \"description\": \"\"\n      }\n    },\n    {\n      \"column\": \"over_time\",\n      \"properties\": {\n        \"dtype\": \"number\",\n        \"std\": 3286,\n        \"min\": 0,\n        \"max\": 15120,\n        \"num_unique_values\": 142,\n        \"samples\": [\n          5520,\n          6780,\n          7470\n        ],\n        \"semantic_type\": \"\",\n        \"description\": \"\"\n      }\n    },\n    {\n      \"column\": \"actual_productivity\",\n      \"properties\": {\n        \"dtype\": \"number\",\n        \"std\": 0.17395200768219443,\n        \"min\": 0.233705476,\n        \"max\": 1.1204375,\n        \"num_unique_values\": 862,\n        \"samples\": [\n          0.750716981,\n          0.361071429,\n          0.846950758\n        ],\n        \"semantic_type\": \"\",\n        \"description\": \"\"\n      }\n    }\n  ]\n}"
            }
          },
          "metadata": {},
          "execution_count": 83
        }
      ]
    },
    {
      "cell_type": "code",
      "source": [
        "correlation_matrix = df_variables.corr() #correlacion de variables\n",
        "correlation_matrix"
      ],
      "metadata": {
        "colab": {
          "base_uri": "https://localhost:8080/",
          "height": 162
        },
        "id": "qxsCpoHSgVjU",
        "outputId": "9aaeeb39-a2e7-4837-ad03-3bb12067818d"
      },
      "execution_count": 84,
      "outputs": [
        {
          "output_type": "execute_result",
          "data": {
            "text/plain": [
              "                     no_of_workers  over_time  actual_productivity\n",
              "no_of_workers             1.000000   0.035871             0.920063\n",
              "over_time                 0.035871   1.000000            -0.044324\n",
              "actual_productivity       0.920063  -0.044324             1.000000"
            ],
            "text/html": [
              "\n",
              "  <div id=\"df-d1fffa4f-0538-48d7-b3e1-790e3f62455a\" class=\"colab-df-container\">\n",
              "    <div>\n",
              "<style scoped>\n",
              "    .dataframe tbody tr th:only-of-type {\n",
              "        vertical-align: middle;\n",
              "    }\n",
              "\n",
              "    .dataframe tbody tr th {\n",
              "        vertical-align: top;\n",
              "    }\n",
              "\n",
              "    .dataframe thead th {\n",
              "        text-align: right;\n",
              "    }\n",
              "</style>\n",
              "<table border=\"1\" class=\"dataframe\">\n",
              "  <thead>\n",
              "    <tr style=\"text-align: right;\">\n",
              "      <th></th>\n",
              "      <th>no_of_workers</th>\n",
              "      <th>over_time</th>\n",
              "      <th>actual_productivity</th>\n",
              "    </tr>\n",
              "  </thead>\n",
              "  <tbody>\n",
              "    <tr>\n",
              "      <th>no_of_workers</th>\n",
              "      <td>1.000000</td>\n",
              "      <td>0.035871</td>\n",
              "      <td>0.920063</td>\n",
              "    </tr>\n",
              "    <tr>\n",
              "      <th>over_time</th>\n",
              "      <td>0.035871</td>\n",
              "      <td>1.000000</td>\n",
              "      <td>-0.044324</td>\n",
              "    </tr>\n",
              "    <tr>\n",
              "      <th>actual_productivity</th>\n",
              "      <td>0.920063</td>\n",
              "      <td>-0.044324</td>\n",
              "      <td>1.000000</td>\n",
              "    </tr>\n",
              "  </tbody>\n",
              "</table>\n",
              "</div>\n",
              "    <div class=\"colab-df-buttons\">\n",
              "\n",
              "  <div class=\"colab-df-container\">\n",
              "    <button class=\"colab-df-convert\" onclick=\"convertToInteractive('df-d1fffa4f-0538-48d7-b3e1-790e3f62455a')\"\n",
              "            title=\"Convert this dataframe to an interactive table.\"\n",
              "            style=\"display:none;\">\n",
              "\n",
              "  <svg xmlns=\"http://www.w3.org/2000/svg\" height=\"24px\" viewBox=\"0 -960 960 960\">\n",
              "    <path d=\"M120-120v-720h720v720H120Zm60-500h600v-160H180v160Zm220 220h160v-160H400v160Zm0 220h160v-160H400v160ZM180-400h160v-160H180v160Zm440 0h160v-160H620v160ZM180-180h160v-160H180v160Zm440 0h160v-160H620v160Z\"/>\n",
              "  </svg>\n",
              "    </button>\n",
              "\n",
              "  <style>\n",
              "    .colab-df-container {\n",
              "      display:flex;\n",
              "      gap: 12px;\n",
              "    }\n",
              "\n",
              "    .colab-df-convert {\n",
              "      background-color: #E8F0FE;\n",
              "      border: none;\n",
              "      border-radius: 50%;\n",
              "      cursor: pointer;\n",
              "      display: none;\n",
              "      fill: #1967D2;\n",
              "      height: 32px;\n",
              "      padding: 0 0 0 0;\n",
              "      width: 32px;\n",
              "    }\n",
              "\n",
              "    .colab-df-convert:hover {\n",
              "      background-color: #E2EBFA;\n",
              "      box-shadow: 0px 1px 2px rgba(60, 64, 67, 0.3), 0px 1px 3px 1px rgba(60, 64, 67, 0.15);\n",
              "      fill: #174EA6;\n",
              "    }\n",
              "\n",
              "    .colab-df-buttons div {\n",
              "      margin-bottom: 4px;\n",
              "    }\n",
              "\n",
              "    [theme=dark] .colab-df-convert {\n",
              "      background-color: #3B4455;\n",
              "      fill: #D2E3FC;\n",
              "    }\n",
              "\n",
              "    [theme=dark] .colab-df-convert:hover {\n",
              "      background-color: #434B5C;\n",
              "      box-shadow: 0px 1px 3px 1px rgba(0, 0, 0, 0.15);\n",
              "      filter: drop-shadow(0px 1px 2px rgba(0, 0, 0, 0.3));\n",
              "      fill: #FFFFFF;\n",
              "    }\n",
              "  </style>\n",
              "\n",
              "    <script>\n",
              "      const buttonEl =\n",
              "        document.querySelector('#df-d1fffa4f-0538-48d7-b3e1-790e3f62455a button.colab-df-convert');\n",
              "      buttonEl.style.display =\n",
              "        google.colab.kernel.accessAllowed ? 'block' : 'none';\n",
              "\n",
              "      async function convertToInteractive(key) {\n",
              "        const element = document.querySelector('#df-d1fffa4f-0538-48d7-b3e1-790e3f62455a');\n",
              "        const dataTable =\n",
              "          await google.colab.kernel.invokeFunction('convertToInteractive',\n",
              "                                                    [key], {});\n",
              "        if (!dataTable) return;\n",
              "\n",
              "        const docLinkHtml = 'Like what you see? Visit the ' +\n",
              "          '<a target=\"_blank\" href=https://colab.research.google.com/notebooks/data_table.ipynb>data table notebook</a>'\n",
              "          + ' to learn more about interactive tables.';\n",
              "        element.innerHTML = '';\n",
              "        dataTable['output_type'] = 'display_data';\n",
              "        await google.colab.output.renderOutput(dataTable, element);\n",
              "        const docLink = document.createElement('div');\n",
              "        docLink.innerHTML = docLinkHtml;\n",
              "        element.appendChild(docLink);\n",
              "      }\n",
              "    </script>\n",
              "  </div>\n",
              "\n",
              "\n",
              "<div id=\"df-81b7ef99-739f-4551-b87a-2df0317adc67\">\n",
              "  <button class=\"colab-df-quickchart\" onclick=\"quickchart('df-81b7ef99-739f-4551-b87a-2df0317adc67')\"\n",
              "            title=\"Suggest charts\"\n",
              "            style=\"display:none;\">\n",
              "\n",
              "<svg xmlns=\"http://www.w3.org/2000/svg\" height=\"24px\"viewBox=\"0 0 24 24\"\n",
              "     width=\"24px\">\n",
              "    <g>\n",
              "        <path d=\"M19 3H5c-1.1 0-2 .9-2 2v14c0 1.1.9 2 2 2h14c1.1 0 2-.9 2-2V5c0-1.1-.9-2-2-2zM9 17H7v-7h2v7zm4 0h-2V7h2v10zm4 0h-2v-4h2v4z\"/>\n",
              "    </g>\n",
              "</svg>\n",
              "  </button>\n",
              "\n",
              "<style>\n",
              "  .colab-df-quickchart {\n",
              "      --bg-color: #E8F0FE;\n",
              "      --fill-color: #1967D2;\n",
              "      --hover-bg-color: #E2EBFA;\n",
              "      --hover-fill-color: #174EA6;\n",
              "      --disabled-fill-color: #AAA;\n",
              "      --disabled-bg-color: #DDD;\n",
              "  }\n",
              "\n",
              "  [theme=dark] .colab-df-quickchart {\n",
              "      --bg-color: #3B4455;\n",
              "      --fill-color: #D2E3FC;\n",
              "      --hover-bg-color: #434B5C;\n",
              "      --hover-fill-color: #FFFFFF;\n",
              "      --disabled-bg-color: #3B4455;\n",
              "      --disabled-fill-color: #666;\n",
              "  }\n",
              "\n",
              "  .colab-df-quickchart {\n",
              "    background-color: var(--bg-color);\n",
              "    border: none;\n",
              "    border-radius: 50%;\n",
              "    cursor: pointer;\n",
              "    display: none;\n",
              "    fill: var(--fill-color);\n",
              "    height: 32px;\n",
              "    padding: 0;\n",
              "    width: 32px;\n",
              "  }\n",
              "\n",
              "  .colab-df-quickchart:hover {\n",
              "    background-color: var(--hover-bg-color);\n",
              "    box-shadow: 0 1px 2px rgba(60, 64, 67, 0.3), 0 1px 3px 1px rgba(60, 64, 67, 0.15);\n",
              "    fill: var(--button-hover-fill-color);\n",
              "  }\n",
              "\n",
              "  .colab-df-quickchart-complete:disabled,\n",
              "  .colab-df-quickchart-complete:disabled:hover {\n",
              "    background-color: var(--disabled-bg-color);\n",
              "    fill: var(--disabled-fill-color);\n",
              "    box-shadow: none;\n",
              "  }\n",
              "\n",
              "  .colab-df-spinner {\n",
              "    border: 2px solid var(--fill-color);\n",
              "    border-color: transparent;\n",
              "    border-bottom-color: var(--fill-color);\n",
              "    animation:\n",
              "      spin 1s steps(1) infinite;\n",
              "  }\n",
              "\n",
              "  @keyframes spin {\n",
              "    0% {\n",
              "      border-color: transparent;\n",
              "      border-bottom-color: var(--fill-color);\n",
              "      border-left-color: var(--fill-color);\n",
              "    }\n",
              "    20% {\n",
              "      border-color: transparent;\n",
              "      border-left-color: var(--fill-color);\n",
              "      border-top-color: var(--fill-color);\n",
              "    }\n",
              "    30% {\n",
              "      border-color: transparent;\n",
              "      border-left-color: var(--fill-color);\n",
              "      border-top-color: var(--fill-color);\n",
              "      border-right-color: var(--fill-color);\n",
              "    }\n",
              "    40% {\n",
              "      border-color: transparent;\n",
              "      border-right-color: var(--fill-color);\n",
              "      border-top-color: var(--fill-color);\n",
              "    }\n",
              "    60% {\n",
              "      border-color: transparent;\n",
              "      border-right-color: var(--fill-color);\n",
              "    }\n",
              "    80% {\n",
              "      border-color: transparent;\n",
              "      border-right-color: var(--fill-color);\n",
              "      border-bottom-color: var(--fill-color);\n",
              "    }\n",
              "    90% {\n",
              "      border-color: transparent;\n",
              "      border-bottom-color: var(--fill-color);\n",
              "    }\n",
              "  }\n",
              "</style>\n",
              "\n",
              "  <script>\n",
              "    async function quickchart(key) {\n",
              "      const quickchartButtonEl =\n",
              "        document.querySelector('#' + key + ' button');\n",
              "      quickchartButtonEl.disabled = true;  // To prevent multiple clicks.\n",
              "      quickchartButtonEl.classList.add('colab-df-spinner');\n",
              "      try {\n",
              "        const charts = await google.colab.kernel.invokeFunction(\n",
              "            'suggestCharts', [key], {});\n",
              "      } catch (error) {\n",
              "        console.error('Error during call to suggestCharts:', error);\n",
              "      }\n",
              "      quickchartButtonEl.classList.remove('colab-df-spinner');\n",
              "      quickchartButtonEl.classList.add('colab-df-quickchart-complete');\n",
              "    }\n",
              "    (() => {\n",
              "      let quickchartButtonEl =\n",
              "        document.querySelector('#df-81b7ef99-739f-4551-b87a-2df0317adc67 button');\n",
              "      quickchartButtonEl.style.display =\n",
              "        google.colab.kernel.accessAllowed ? 'block' : 'none';\n",
              "    })();\n",
              "  </script>\n",
              "</div>\n",
              "\n",
              "  <div id=\"id_86b77794-4ecc-4656-867e-2807548d4f72\">\n",
              "    <style>\n",
              "      .colab-df-generate {\n",
              "        background-color: #E8F0FE;\n",
              "        border: none;\n",
              "        border-radius: 50%;\n",
              "        cursor: pointer;\n",
              "        display: none;\n",
              "        fill: #1967D2;\n",
              "        height: 32px;\n",
              "        padding: 0 0 0 0;\n",
              "        width: 32px;\n",
              "      }\n",
              "\n",
              "      .colab-df-generate:hover {\n",
              "        background-color: #E2EBFA;\n",
              "        box-shadow: 0px 1px 2px rgba(60, 64, 67, 0.3), 0px 1px 3px 1px rgba(60, 64, 67, 0.15);\n",
              "        fill: #174EA6;\n",
              "      }\n",
              "\n",
              "      [theme=dark] .colab-df-generate {\n",
              "        background-color: #3B4455;\n",
              "        fill: #D2E3FC;\n",
              "      }\n",
              "\n",
              "      [theme=dark] .colab-df-generate:hover {\n",
              "        background-color: #434B5C;\n",
              "        box-shadow: 0px 1px 3px 1px rgba(0, 0, 0, 0.15);\n",
              "        filter: drop-shadow(0px 1px 2px rgba(0, 0, 0, 0.3));\n",
              "        fill: #FFFFFF;\n",
              "      }\n",
              "    </style>\n",
              "    <button class=\"colab-df-generate\" onclick=\"generateWithVariable('correlation_matrix')\"\n",
              "            title=\"Generate code using this dataframe.\"\n",
              "            style=\"display:none;\">\n",
              "\n",
              "  <svg xmlns=\"http://www.w3.org/2000/svg\" height=\"24px\"viewBox=\"0 0 24 24\"\n",
              "       width=\"24px\">\n",
              "    <path d=\"M7,19H8.4L18.45,9,17,7.55,7,17.6ZM5,21V16.75L18.45,3.32a2,2,0,0,1,2.83,0l1.4,1.43a1.91,1.91,0,0,1,.58,1.4,1.91,1.91,0,0,1-.58,1.4L9.25,21ZM18.45,9,17,7.55Zm-12,3A5.31,5.31,0,0,0,4.9,8.1,5.31,5.31,0,0,0,1,6.5,5.31,5.31,0,0,0,4.9,4.9,5.31,5.31,0,0,0,6.5,1,5.31,5.31,0,0,0,8.1,4.9,5.31,5.31,0,0,0,12,6.5,5.46,5.46,0,0,0,6.5,12Z\"/>\n",
              "  </svg>\n",
              "    </button>\n",
              "    <script>\n",
              "      (() => {\n",
              "      const buttonEl =\n",
              "        document.querySelector('#id_86b77794-4ecc-4656-867e-2807548d4f72 button.colab-df-generate');\n",
              "      buttonEl.style.display =\n",
              "        google.colab.kernel.accessAllowed ? 'block' : 'none';\n",
              "\n",
              "      buttonEl.onclick = () => {\n",
              "        google.colab.notebook.generateWithVariable('correlation_matrix');\n",
              "      }\n",
              "      })();\n",
              "    </script>\n",
              "  </div>\n",
              "\n",
              "    </div>\n",
              "  </div>\n"
            ],
            "application/vnd.google.colaboratory.intrinsic+json": {
              "type": "dataframe",
              "variable_name": "correlation_matrix",
              "summary": "{\n  \"name\": \"correlation_matrix\",\n  \"rows\": 3,\n  \"fields\": [\n    {\n      \"column\": \"no_of_workers\",\n      \"properties\": {\n        \"dtype\": \"number\",\n        \"std\": 0.5350590444959635,\n        \"min\": 0.03587114252756876,\n        \"max\": 1.0,\n        \"num_unique_values\": 3,\n        \"samples\": [\n          1.0,\n          0.03587114252756876,\n          0.9200626692470943\n        ],\n        \"semantic_type\": \"\",\n        \"description\": \"\"\n      }\n    },\n    {\n      \"column\": \"over_time\",\n      \"properties\": {\n        \"dtype\": \"number\",\n        \"std\": 0.5811754222074464,\n        \"min\": -0.044324398657326895,\n        \"max\": 1.0,\n        \"num_unique_values\": 3,\n        \"samples\": [\n          0.03587114252756876,\n          1.0,\n          -0.044324398657326895\n        ],\n        \"semantic_type\": \"\",\n        \"description\": \"\"\n      }\n    },\n    {\n      \"column\": \"actual_productivity\",\n      \"properties\": {\n        \"dtype\": \"number\",\n        \"std\": 0.5812408914297315,\n        \"min\": -0.044324398657326895,\n        \"max\": 1.0,\n        \"num_unique_values\": 3,\n        \"samples\": [\n          0.9200626692470943,\n          -0.044324398657326895,\n          1.0\n        ],\n        \"semantic_type\": \"\",\n        \"description\": \"\"\n      }\n    }\n  ]\n}"
            }
          },
          "metadata": {},
          "execution_count": 84
        }
      ]
    },
    {
      "cell_type": "markdown",
      "source": [
        "Hay bastante correlación entre el numero de trabajadores y la productividad"
      ],
      "metadata": {
        "id": "fb4CSVx2hJIa"
      }
    },
    {
      "cell_type": "code",
      "source": [
        "plt.figure(figsize=(8, 6))\n",
        "sns.heatmap(correlation_matrix.abs(), annot=True, cmap=\"coolwarm\", fmt=\".2f\")\n",
        "plt.title(\"Heatmap de correlación\")\n",
        "plt.show()"
      ],
      "metadata": {
        "colab": {
          "base_uri": "https://localhost:8080/",
          "height": 54
        },
        "id": "Jjm4E2C6gtJd",
        "outputId": "12c351b7-5037-49b6-af32-051caf1c6639"
      },
      "execution_count": 85,
      "outputs": [
        {
          "output_type": "display_data",
          "data": {
            "text/plain": [
              "<Figure size 800x600 with 2 Axes>"
            ],
            "image/png": "[encoded data removed]"
          },
          "metadata": {}
        }
      ]
    },
    {
      "cell_type": "code",
      "source": [
        "X = df_variables[['no_of_workers', 'over_time']] #Variables X\n",
        "y = df_variables['actual_productivity'] #Variables a predecir Y\n",
        "\n",
        "# Dividir los datos en entrenamiento y prueba. test_size es la muestra del test del 20%\n",
        "X_train, X_test, y_train, y_test = train_test_split(X, y, test_size=0.2, random_state=1727)\n",
        "print (\"X_train: \", X_train.shape)\n",
        "print (\"X_test: \",X_test.shape)\n",
        "print (\"y_train: \",y_train.shape)\n",
        "print (\"y_test: \",y_test.shape)"
      ],
      "metadata": {
        "colab": {
          "base_uri": "https://localhost:8080/"
        },
        "id": "iUAy7tP6i1Bo",
        "outputId": "5ba0b9e0-5960-4f1a-f9af-ed52266180dd"
      },
      "execution_count": 86,
      "outputs": [
        {
          "output_type": "stream",
          "name": "stdout",
          "text": [
            "X_train:  (940, 2)\n",
            "X_test:  (236, 2)\n",
            "y_train:  (940,)\n",
            "y_test:  (236,)\n"
          ]
        }
      ]
    },
    {
      "cell_type": "markdown",
      "source": [
        "## Algoritmo de regresión"
      ],
      "metadata": {
        "id": "WzJ5FHqrD9ph"
      }
    },
    {
      "cell_type": "code",
      "source": [
        "# Entrenar el modelo de regresión lineal\n",
        "model = LinearRegression() # Se crea un objeto con la información de la regresion lineal\n",
        "model.fit(X_train, y_train) # Se utiliza la regresion lineal con los modelos\n"
      ],
      "metadata": {
        "colab": {
          "base_uri": "https://localhost:8080/",
          "height": 94
        },
        "id": "u11Jg3I5kgNG",
        "outputId": "92b8d64c-ebb8-4f77-f8c8-46181f8b212b"
      },
      "execution_count": 87,
      "outputs": [
        {
          "output_type": "execute_result",
          "data": {
            "text/plain": [
              "LinearRegression()"
            ],
            "text/html": [
              "<style>#sk-container-id-8 {color: black;background-color: white;}#sk-container-id-8 pre{padding: 0;}#sk-container-id-8 div.sk-toggleable {background-color: white;}#sk-container-id-8 label.sk-toggleable__label {cursor: pointer;display: block;width: 100%;margin-bottom: 0;padding: 0.3em;box-sizing: border-box;text-align: center;}#sk-container-id-8 label.sk-toggleable__label-arrow:before {content: \"▸\";float: left;margin-right: 0.25em;color: #696969;}#sk-container-id-8 label.sk-toggleable__label-arrow:hover:before {color: black;}#sk-container-id-8 div.sk-estimator:hover label.sk-toggleable__label-arrow:before {color: black;}#sk-container-id-8 div.sk-toggleable__content {max-height: 0;max-width: 0;overflow: hidden;text-align: left;background-color: #f0f8ff;}#sk-container-id-8 div.sk-toggleable__content pre {margin: 0.2em;color: black;border-radius: 0.25em;background-color: #f0f8ff;}#sk-container-id-8 input.sk-toggleable__control:checked~div.sk-toggleable__content {max-height: 200px;max-width: 100%;overflow: auto;}#sk-container-id-8 input.sk-toggleable__control:checked~label.sk-toggleable__label-arrow:before {content: \"▾\";}#sk-container-id-8 div.sk-estimator input.sk-toggleable__control:checked~label.sk-toggleable__label {background-color: #d4ebff;}#sk-container-id-8 div.sk-label input.sk-toggleable__control:checked~label.sk-toggleable__label {background-color: #d4ebff;}#sk-container-id-8 input.sk-hidden--visually {border: 0;clip: rect(1px 1px 1px 1px);clip: rect(1px, 1px, 1px, 1px);height: 1px;margin: -1px;overflow: hidden;padding: 0;position: absolute;width: 1px;}#sk-container-id-8 div.sk-estimator {font-family: monospace;background-color: #f0f8ff;border: 1px dotted black;border-radius: 0.25em;box-sizing: border-box;margin-bottom: 0.5em;}#sk-container-id-8 div.sk-estimator:hover {background-color: #d4ebff;}#sk-container-id-8 div.sk-parallel-item::after {content: \"\";width: 100%;border-bottom: 1px solid gray;flex-grow: 1;}#sk-container-id-8 div.sk-label:hover label.sk-toggleable__label {background-color: #d4ebff;}#sk-container-id-8 div.sk-serial::before {content: \"\";position: absolute;border-left: 1px solid gray;box-sizing: border-box;top: 0;bottom: 0;left: 50%;z-index: 0;}#sk-container-id-8 div.sk-serial {display: flex;flex-direction: column;align-items: center;background-color: white;padding-right: 0.2em;padding-left: 0.2em;position: relative;}#sk-container-id-8 div.sk-item {position: relative;z-index: 1;}#sk-container-id-8 div.sk-parallel {display: flex;align-items: stretch;justify-content: center;background-color: white;position: relative;}#sk-container-id-8 div.sk-item::before, #sk-container-id-8 div.sk-parallel-item::before {content: \"\";position: absolute;border-left: 1px solid gray;box-sizing: border-box;top: 0;bottom: 0;left: 50%;z-index: -1;}#sk-container-id-8 div.sk-parallel-item {display: flex;flex-direction: column;z-index: 1;position: relative;background-color: white;}#sk-container-id-8 div.sk-parallel-item:first-child::after {align-self: flex-end;width: 50%;}#sk-container-id-8 div.sk-parallel-item:last-child::after {align-self: flex-start;width: 50%;}#sk-container-id-8 div.sk-parallel-item:only-child::after {width: 0;}#sk-container-id-8 div.sk-dashed-wrapped {border: 1px dashed gray;margin: 0 0.4em 0.5em 0.4em;box-sizing: border-box;padding-bottom: 0.4em;background-color: white;}#sk-container-id-8 div.sk-label label {font-family: monospace;font-weight: bold;display: inline-block;line-height: 1.2em;}#sk-container-id-8 div.sk-label-container {text-align: center;}#sk-container-id-8 div.sk-container {/* jupyter's `normalize.less` sets `[hidden] { display: none; }` but bootstrap.min.css set `[hidden] { display: none !important; }` so we also need the `!important` here to be able to override the default hidden behavior on the sphinx rendered scikit-learn.org. See: https://github.com/scikit-learn/scikit-learn/issues/21755 */display: inline-block !important;position: relative;}#sk-container-id-8 div.sk-text-repr-fallback {display: none;}</style><div id=\"sk-container-id-8\" class=\"sk-top-container\"><div class=\"sk-text-repr-fallback\"><pre>LinearRegression()</pre><b>In a Jupyter environment, please rerun this cell to show the HTML representation or trust the notebook. <br />On GitHub, the HTML representation is unable to render, please try loading this page with nbviewer.org.</b></div><div class=\"sk-container\" hidden><div class=\"sk-item\"><div class=\"sk-estimator sk-toggleable\"><input class=\"sk-toggleable__control sk-hidden--visually\" id=\"sk-estimator-id-8\" type=\"checkbox\" checked><label for=\"sk-estimator-id-8\" class=\"sk-toggleable__label sk-toggleable__label-arrow\">LinearRegression</label><div class=\"sk-toggleable__content\"><pre>LinearRegression()</pre></div></div></div></div></div>"
            ]
          },
          "metadata": {},
          "execution_count": 87
        }
      ]
    },
    {
      "cell_type": "code",
      "source": [
        "print(model.coef_)\n",
        "print(model.intercept_)"
      ],
      "metadata": {
        "colab": {
          "base_uri": "https://localhost:8080/"
        },
        "id": "pT-YfwdbE3Km",
        "outputId": "032d6f27-140b-47dd-8048-0421ecb2c6ef"
      },
      "execution_count": 88,
      "outputs": [
        {
          "output_type": "stream",
          "name": "stdout",
          "text": [
            "[ 3.23842050e-02 -4.24988969e-06]\n",
            "-0.16022984066396406\n"
          ]
        }
      ]
    },
    {
      "cell_type": "markdown",
      "source": [
        "## Predicción"
      ],
      "metadata": {
        "id": "KrI9w1kwFHQD"
      }
    },
    {
      "cell_type": "code",
      "source": [
        "# Hacemos predicciones usado el conjunto de entrenamiento\n",
        "y_train_pred = model.predict(X_train)"
      ],
      "metadata": {
        "id": "EHMavphZEt47"
      },
      "execution_count": 89,
      "outputs": []
    },
    {
      "cell_type": "code",
      "source": [
        "# Hacemos predicciones usando el conjunto de prueba\n",
        "y_test_pred = model.predict(X_test)"
      ],
      "metadata": {
        "id": "BXBDeO7DKBq_"
      },
      "execution_count": 90,
      "outputs": []
    },
    {
      "cell_type": "code",
      "source": [
        "# Visualizar los resultados con un diagrama de dispersión\n",
        "plt.scatter(y_test, y_test_pred)\n",
        "plt.plot(np.arange(0.2, 1.2, 0.1),np.arange(0.2,1.2,0.1),color=\"blue\", linestyle=\"--\", label=\"y = x\") #linea azul\n",
        "plt.xlabel('Valores reales')\n",
        "plt.ylabel('Valores predichos')\n",
        "plt.title('Predicción de productividad real')\n",
        "plt.show()"
      ],
      "metadata": {
        "colab": {
          "base_uri": "https://localhost:8080/",
          "height": 54
        },
        "id": "YRxuUm0-Ew6n",
        "outputId": "8264a5ba-c042-48ac-ce8e-8b737eeac684"
      },
      "execution_count": 91,
      "outputs": [
        {
          "output_type": "display_data",
          "data": {
            "text/plain": [
              "<Figure size 640x480 with 1 Axes>"
            ],
            "image/png": "[encoded data removed]"
          },
          "metadata": {}
        }
      ]
    },
    {
      "cell_type": "code",
      "source": [
        "print(\"R2: \", r2_score(y_test, y_test_pred))\n",
        "print(\"MSE: \", metrics.mean_squared_error(y_test, y_test_pred))\n",
        "print(\"RMSE: \", np.sqrt(metrics.mean_squared_error(y_test, y_test_pred)))\n",
        "print(\"MAE: \", metrics.mean_absolute_error(y_test, y_test_pred))"
      ],
      "metadata": {
        "colab": {
          "base_uri": "https://localhost:8080/"
        },
        "id": "OSRuhO8vzpF2",
        "outputId": "607c6eae-0fe6-44c6-f513-8014ef1ce6f0"
      },
      "execution_count": 92,
      "outputs": [
        {
          "output_type": "stream",
          "name": "stdout",
          "text": [
            "R2:  0.8557174909059331\n",
            "MSE:  0.00385127584148224\n",
            "RMSE:  0.06205864840199342\n",
            "MAE:  0.048942254787063995\n"
          ]
        }
      ]
    },
    {
      "cell_type": "markdown",
      "source": [
        "## Conclusiones"
      ],
      "metadata": {
        "id": "_4AizxAm16WG"
      }
    },
    {
      "cell_type": "markdown",
      "source": [
        "**Correlaciones:** La correlación entre el número de trabajadores y la productividad real es alta (0.9201), lo que sugiere una relación positiva fuerte entre estas dos variables. Sin embargo, la correlación entre el tiempo extra y la productividad real es negativa (-0.0443), aunque bastante baja. Esto sugiere que el tiempo extra puede tener un efecto negativo muy leve en la productividad real, pero es menos influyente en comparación con el número de trabajadores.\n",
        "\n",
        "**Coeficientes del modelo:** Los coeficientes de la ecuación lineal muestran cómo cada una de las variables independientes contribuye a la predicción de la productividad real. Por ejemplo, un aumento de una unidad en el número de trabajadores (no_of_workers) se relaciona con un aumento de aproximadamente 0.0328 en la productividad real, mientras que un aumento de una unidad en el tiempo extra (over_time) se relaciona con una disminución muy pequeña (prácticamente despreciable) en la productividad real.\n",
        "\n",
        "**Calidad del modelo:** El coeficiente de determinación (R2) de 0.8557 indica que aproximadamente el 85.5% de la variabilidad en la productividad real puede explicarse por las variables independientes (número de trabajadores y tiempo extra) incluidas en el modelo. Esto sugiere que el modelo de regresión lineal es bastante efectivo para predecir la productividad real en función de estas dos características.\n",
        "\n",
        "**Error de predicción:** El Error Cuadrático Medio (MSE) de 0.0038 indica que, en promedio, las predicciones del modelo están a una distancia de aproximadamente 0.062 de la productividad real. Este valor es relativamente bajo, lo que sugiere que el modelo tiene un buen rendimiento en términos de precisión de las predicciones."
      ],
      "metadata": {
        "id": "bGCilqwhmgJj"
      }
    },
    {
      "cell_type": "markdown",
      "source": [
        "# Acción 2: Aplicación modelo logístico."
      ],
      "metadata": {
        "id": "KrHiV966lNfi"
      }
    },
    {
      "cell_type": "markdown",
      "source": [
        "- a. Construir la variable ‘nivel_productividad’ con niveles alto y bajo. Considere nivel alto a productividad real > 0.7 y nivel bajo a productividad real <=0.7.\n",
        "- b. Con la base de entrenamiento aplicar un modelo de regresión logística para predecir el ‘nivel_productividad’ basado en el número de trabajadores de cada equipo y el tiempo extra en minutos.\n",
        "- c. Realizar las predicciones sobre la base de prueba. Calcule la precisión (accuracy) sobre los datos de prueba."
      ],
      "metadata": {
        "id": "jpasfBP5lN-y"
      }
    },
    {
      "cell_type": "markdown",
      "source": [
        "### Importar librerias\n"
      ],
      "metadata": {
        "id": "0D0t-spbRvi6"
      }
    },
    {
      "cell_type": "code",
      "source": [
        "from sklearn.model_selection import train_test_split\n",
        "from sklearn.linear_model import LogisticRegression\n",
        "from sklearn.metrics import accuracy_score\n",
        "import numpy as np\n",
        "from sklearn.metrics import confusion_matrix, ConfusionMatrixDisplay\n",
        "from sklearn.metrics import accuracy_score, classification_report\n"
      ],
      "metadata": {
        "id": "jtKjGDYMR0N6"
      },
      "execution_count": 93,
      "outputs": []
    },
    {
      "cell_type": "markdown",
      "source": [
        "## Algoritmo de regresion"
      ],
      "metadata": {
        "id": "62VKYH37nE-1"
      }
    },
    {
      "cell_type": "code",
      "source": [
        "# Construir la variable 'nivel_productividad'\n",
        "df['nivel_productividad'] = df['actual_productivity'].apply(lambda x: 'Alto' if x > 0.7 else 'Bajo')"
      ],
      "metadata": {
        "id": "UKv-pd8dRZ_F"
      },
      "execution_count": 94,
      "outputs": []
    },
    {
      "cell_type": "code",
      "source": [
        "# Separar las características (features) y la variable objetivo (target)\n",
        "X = df[['no_of_workers', 'over_time']]\n",
        "y = df['nivel_productividad']"
      ],
      "metadata": {
        "id": "uSI6wX0GRkDc"
      },
      "execution_count": 95,
      "outputs": []
    },
    {
      "cell_type": "markdown",
      "source": [
        "## Entrenamiento modelos"
      ],
      "metadata": {
        "id": "hpfzAO-epuNW"
      }
    },
    {
      "cell_type": "code",
      "source": [
        "# Dividir los datos en entrenamiento y prueba\n",
        "X_train, X_test, y_train, y_test = train_test_split(X, y, test_size=0.2, random_state=42, stratify=y)"
      ],
      "metadata": {
        "id": "sHyZiYpYRo7a"
      },
      "execution_count": 96,
      "outputs": []
    },
    {
      "cell_type": "code",
      "source": [
        "# Entrenar el modelo de regresión logística\n",
        "model = LogisticRegression()\n",
        "model.fit(X_train, y_train)"
      ],
      "metadata": {
        "colab": {
          "base_uri": "https://localhost:8080/",
          "height": 94
        },
        "id": "HILq9kzlRr14",
        "outputId": "dff70a19-4dd0-4741-fc9a-99d648ac0db0"
      },
      "execution_count": 97,
      "outputs": [
        {
          "output_type": "execute_result",
          "data": {
            "text/plain": [
              "LogisticRegression()"
            ],
            "text/html": [
              "<style>#sk-container-id-9 {color: black;background-color: white;}#sk-container-id-9 pre{padding: 0;}#sk-container-id-9 div.sk-toggleable {background-color: white;}#sk-container-id-9 label.sk-toggleable__label {cursor: pointer;display: block;width: 100%;margin-bottom: 0;padding: 0.3em;box-sizing: border-box;text-align: center;}#sk-container-id-9 label.sk-toggleable__label-arrow:before {content: \"▸\";float: left;margin-right: 0.25em;color: #696969;}#sk-container-id-9 label.sk-toggleable__label-arrow:hover:before {color: black;}#sk-container-id-9 div.sk-estimator:hover label.sk-toggleable__label-arrow:before {color: black;}#sk-container-id-9 div.sk-toggleable__content {max-height: 0;max-width: 0;overflow: hidden;text-align: left;background-color: #f0f8ff;}#sk-container-id-9 div.sk-toggleable__content pre {margin: 0.2em;color: black;border-radius: 0.25em;background-color: #f0f8ff;}#sk-container-id-9 input.sk-toggleable__control:checked~div.sk-toggleable__content {max-height: 200px;max-width: 100%;overflow: auto;}#sk-container-id-9 input.sk-toggleable__control:checked~label.sk-toggleable__label-arrow:before {content: \"▾\";}#sk-container-id-9 div.sk-estimator input.sk-toggleable__control:checked~label.sk-toggleable__label {background-color: #d4ebff;}#sk-container-id-9 div.sk-label input.sk-toggleable__control:checked~label.sk-toggleable__label {background-color: #d4ebff;}#sk-container-id-9 input.sk-hidden--visually {border: 0;clip: rect(1px 1px 1px 1px);clip: rect(1px, 1px, 1px, 1px);height: 1px;margin: -1px;overflow: hidden;padding: 0;position: absolute;width: 1px;}#sk-container-id-9 div.sk-estimator {font-family: monospace;background-color: #f0f8ff;border: 1px dotted black;border-radius: 0.25em;box-sizing: border-box;margin-bottom: 0.5em;}#sk-container-id-9 div.sk-estimator:hover {background-color: #d4ebff;}#sk-container-id-9 div.sk-parallel-item::after {content: \"\";width: 100%;border-bottom: 1px solid gray;flex-grow: 1;}#sk-container-id-9 div.sk-label:hover label.sk-toggleable__label {background-color: #d4ebff;}#sk-container-id-9 div.sk-serial::before {content: \"\";position: absolute;border-left: 1px solid gray;box-sizing: border-box;top: 0;bottom: 0;left: 50%;z-index: 0;}#sk-container-id-9 div.sk-serial {display: flex;flex-direction: column;align-items: center;background-color: white;padding-right: 0.2em;padding-left: 0.2em;position: relative;}#sk-container-id-9 div.sk-item {position: relative;z-index: 1;}#sk-container-id-9 div.sk-parallel {display: flex;align-items: stretch;justify-content: center;background-color: white;position: relative;}#sk-container-id-9 div.sk-item::before, #sk-container-id-9 div.sk-parallel-item::before {content: \"\";position: absolute;border-left: 1px solid gray;box-sizing: border-box;top: 0;bottom: 0;left: 50%;z-index: -1;}#sk-container-id-9 div.sk-parallel-item {display: flex;flex-direction: column;z-index: 1;position: relative;background-color: white;}#sk-container-id-9 div.sk-parallel-item:first-child::after {align-self: flex-end;width: 50%;}#sk-container-id-9 div.sk-parallel-item:last-child::after {align-self: flex-start;width: 50%;}#sk-container-id-9 div.sk-parallel-item:only-child::after {width: 0;}#sk-container-id-9 div.sk-dashed-wrapped {border: 1px dashed gray;margin: 0 0.4em 0.5em 0.4em;box-sizing: border-box;padding-bottom: 0.4em;background-color: white;}#sk-container-id-9 div.sk-label label {font-family: monospace;font-weight: bold;display: inline-block;line-height: 1.2em;}#sk-container-id-9 div.sk-label-container {text-align: center;}#sk-container-id-9 div.sk-container {/* jupyter's `normalize.less` sets `[hidden] { display: none; }` but bootstrap.min.css set `[hidden] { display: none !important; }` so we also need the `!important` here to be able to override the default hidden behavior on the sphinx rendered scikit-learn.org. See: https://github.com/scikit-learn/scikit-learn/issues/21755 */display: inline-block !important;position: relative;}#sk-container-id-9 div.sk-text-repr-fallback {display: none;}</style><div id=\"sk-container-id-9\" class=\"sk-top-container\"><div class=\"sk-text-repr-fallback\"><pre>LogisticRegression()</pre><b>In a Jupyter environment, please rerun this cell to show the HTML representation or trust the notebook. <br />On GitHub, the HTML representation is unable to render, please try loading this page with nbviewer.org.</b></div><div class=\"sk-container\" hidden><div class=\"sk-item\"><div class=\"sk-estimator sk-toggleable\"><input class=\"sk-toggleable__control sk-hidden--visually\" id=\"sk-estimator-id-9\" type=\"checkbox\" checked><label for=\"sk-estimator-id-9\" class=\"sk-toggleable__label sk-toggleable__label-arrow\">LogisticRegression</label><div class=\"sk-toggleable__content\"><pre>LogisticRegression()</pre></div></div></div></div></div>"
            ]
          },
          "metadata": {},
          "execution_count": 97
        }
      ]
    },
    {
      "cell_type": "markdown",
      "source": [
        "## Predicción"
      ],
      "metadata": {
        "id": "Py0JoxSjpyid"
      }
    },
    {
      "cell_type": "code",
      "source": [
        "# Realizar predicciones sobre la base de prueba\n",
        "y_pred = model.predict(X_test)\n",
        "y_pred"
      ],
      "metadata": {
        "id": "8aGOqTdmSHz3",
        "colab": {
          "base_uri": "https://localhost:8080/"
        },
        "outputId": "c28a3795-2c92-4d07-d825-f31df22410e1"
      },
      "execution_count": 98,
      "outputs": [
        {
          "output_type": "execute_result",
          "data": {
            "text/plain": [
              "array(['Bajo', 'Alto', 'Alto', 'Bajo', 'Alto', 'Bajo', 'Bajo', 'Alto',\n",
              "       'Bajo', 'Alto', 'Bajo', 'Bajo', 'Bajo', 'Alto', 'Alto', 'Bajo',\n",
              "       'Alto', 'Alto', 'Alto', 'Alto', 'Alto', 'Alto', 'Bajo', 'Alto',\n",
              "       'Alto', 'Alto', 'Alto', 'Alto', 'Bajo', 'Bajo', 'Alto', 'Alto',\n",
              "       'Alto', 'Alto', 'Bajo', 'Bajo', 'Alto', 'Bajo', 'Alto', 'Alto',\n",
              "       'Alto', 'Bajo', 'Alto', 'Alto', 'Alto', 'Alto', 'Alto', 'Alto',\n",
              "       'Alto', 'Alto', 'Alto', 'Alto', 'Bajo', 'Alto', 'Alto', 'Bajo',\n",
              "       'Alto', 'Alto', 'Alto', 'Alto', 'Alto', 'Alto', 'Alto', 'Bajo',\n",
              "       'Alto', 'Alto', 'Bajo', 'Alto', 'Bajo', 'Alto', 'Alto', 'Alto',\n",
              "       'Alto', 'Bajo', 'Alto', 'Alto', 'Alto', 'Alto', 'Bajo', 'Bajo',\n",
              "       'Bajo', 'Alto', 'Bajo', 'Alto', 'Alto', 'Alto', 'Alto', 'Alto',\n",
              "       'Bajo', 'Bajo', 'Alto', 'Alto', 'Bajo', 'Alto', 'Bajo', 'Alto',\n",
              "       'Alto', 'Bajo', 'Alto', 'Bajo', 'Bajo', 'Alto', 'Alto', 'Alto',\n",
              "       'Alto', 'Alto', 'Alto', 'Alto', 'Bajo', 'Alto', 'Alto', 'Alto',\n",
              "       'Alto', 'Bajo', 'Alto', 'Bajo', 'Alto', 'Alto', 'Bajo', 'Alto',\n",
              "       'Alto', 'Alto', 'Alto', 'Alto', 'Alto', 'Bajo', 'Alto', 'Bajo',\n",
              "       'Bajo', 'Alto', 'Alto', 'Bajo', 'Bajo', 'Alto', 'Bajo', 'Bajo',\n",
              "       'Bajo', 'Alto', 'Bajo', 'Bajo', 'Bajo', 'Alto', 'Alto', 'Bajo',\n",
              "       'Alto', 'Alto', 'Bajo', 'Alto', 'Bajo', 'Alto', 'Alto', 'Alto',\n",
              "       'Alto', 'Alto', 'Bajo', 'Alto', 'Alto', 'Alto', 'Bajo', 'Alto',\n",
              "       'Alto', 'Alto', 'Bajo', 'Bajo', 'Alto', 'Alto', 'Bajo', 'Bajo',\n",
              "       'Bajo', 'Bajo', 'Alto', 'Bajo', 'Alto', 'Alto', 'Bajo', 'Alto',\n",
              "       'Alto', 'Bajo', 'Alto', 'Bajo', 'Alto', 'Alto', 'Alto', 'Bajo',\n",
              "       'Alto', 'Alto', 'Bajo', 'Alto', 'Alto', 'Alto', 'Alto', 'Alto',\n",
              "       'Alto', 'Alto', 'Bajo', 'Alto', 'Alto', 'Alto', 'Bajo', 'Alto',\n",
              "       'Alto', 'Alto', 'Alto', 'Alto', 'Alto', 'Alto', 'Alto', 'Bajo',\n",
              "       'Bajo', 'Alto', 'Alto', 'Alto', 'Alto', 'Alto', 'Bajo', 'Alto',\n",
              "       'Alto', 'Alto', 'Bajo', 'Alto', 'Alto', 'Alto', 'Alto', 'Alto',\n",
              "       'Alto', 'Alto', 'Alto', 'Alto', 'Alto', 'Bajo', 'Alto', 'Alto',\n",
              "       'Alto', 'Alto', 'Alto', 'Bajo'], dtype=object)"
            ]
          },
          "metadata": {},
          "execution_count": 98
        }
      ]
    },
    {
      "cell_type": "markdown",
      "source": [
        "## Evaluacion modelo"
      ],
      "metadata": {
        "id": "ETcherLwe2bZ"
      }
    },
    {
      "cell_type": "code",
      "source": [
        "accuracy = accuracy_score(y_test, y_pred)\n",
        "print(\"Precisión (Accuracy) sobre los datos de prueba:\", accuracy)"
      ],
      "metadata": {
        "colab": {
          "base_uri": "https://localhost:8080/"
        },
        "id": "Ki-eUht2SLhq",
        "outputId": "fb3f9316-7214-477d-e80a-6d967374b8d0"
      },
      "execution_count": 99,
      "outputs": [
        {
          "output_type": "stream",
          "name": "stdout",
          "text": [
            "Precisión (Accuracy) sobre los datos de prueba: 1.0\n"
          ]
        }
      ]
    },
    {
      "cell_type": "code",
      "source": [
        "# matriz de confusión\n",
        "fig = plt.figure(figsize=(11,11))\n",
        "cm = confusion_matrix(y_test, y_pred, labels=model.classes_)\n",
        "disp = ConfusionMatrixDisplay(confusion_matrix = cm, display_labels=model.classes_)\n",
        "disp.plot(cmap='gray')\n",
        "plt.show()"
      ],
      "metadata": {
        "colab": {
          "base_uri": "https://localhost:8080/",
          "height": 466
        },
        "id": "q87gzeuxE5El",
        "outputId": "dd88a136-119c-4a51-c2c5-4d5be328d646"
      },
      "execution_count": 100,
      "outputs": [
        {
          "output_type": "display_data",
          "data": {
            "text/plain": [
              "<Figure size 1100x1100 with 0 Axes>"
            ]
          },
          "metadata": {}
        },
        {
          "output_type": "display_data",
          "data": {
            "text/plain": [
              "<Figure size 640x480 with 2 Axes>"
            ],
            "image/png": "[encoded data removed]"
          },
          "metadata": {}
        }
      ]
    },
    {
      "cell_type": "code",
      "source": [
        "# métricas en general\n",
        "print(\"Accuracy: \", accuracy_score(y_test,y_pred))\n",
        "print(\"\\nClassification Report:\\n\", classification_report(y_test,y_pred))\n",
        "print(\"\\nConfusion Matrix:\\n\", confusion_matrix(y_test,y_pred))"
      ],
      "metadata": {
        "colab": {
          "base_uri": "https://localhost:8080/"
        },
        "id": "MyNDU2RsF7La",
        "outputId": "837d9bab-234b-4ba8-fc21-868caaea9078"
      },
      "execution_count": 101,
      "outputs": [
        {
          "output_type": "stream",
          "name": "stdout",
          "text": [
            "Accuracy:  1.0\n",
            "\n",
            "Classification Report:\n",
            "               precision    recall  f1-score   support\n",
            "\n",
            "        Alto       1.00      1.00      1.00       163\n",
            "        Bajo       1.00      1.00      1.00        73\n",
            "\n",
            "    accuracy                           1.00       236\n",
            "   macro avg       1.00      1.00      1.00       236\n",
            "weighted avg       1.00      1.00      1.00       236\n",
            "\n",
            "\n",
            "Confusion Matrix:\n",
            " [[163   0]\n",
            " [  0  73]]\n"
          ]
        }
      ]
    },
    {
      "cell_type": "markdown",
      "source": [
        "Precisión (Precision): La precisión para ambas clases, 'Alto' y 'Bajo', es del 100%. Esto significa que de todas las muestras que el modelo predijo como 'Alto' (o 'Bajo'), todas fueron realmente 'Alto' (o 'Bajo'). En otras palabras, el modelo no clasificó incorrectamente ninguna muestra como 'Alto' cuando era 'Bajo' o viceversa.\n",
        "\n",
        "Recall: El recall para ambas clases es del 100%, lo que indica que el modelo identificó correctamente todas las muestras de ambas clases. No hubo falsos negativos, es decir, el modelo no dejó ninguna muestra de 'Alto' (o 'Bajo') sin clasificar.\n",
        "\n",
        "F1-Score: El F1-score para ambas clases también es del 100%. Esto sugiere un equilibrio entre precisión y recall, lo que indica que el modelo es robusto en la clasificación de ambas clases.\n",
        "\n",
        "Matrix de Confusión: La matriz de confusión muestra que no hay falsos positivos ni falsos negativos. Todas las muestras de 'Alto' (163) fueron clasificadas correctamente como 'Alto', al igual que todas las muestras de 'Bajo' (73) fueron clasificadas correctamente como 'Bajo'."
      ],
      "metadata": {
        "id": "_xo4y0fJHQeB"
      }
    },
    {
      "cell_type": "code",
      "source": [
        "num_filas_X_test = X_test.shape[0]\n",
        "indice_aleatorio = np.random.randint(0, num_filas_X_test)\n",
        "entrada_al= X_test.iloc[indice_aleatorio].tolist()\n",
        "entrada_lista = entrada_al\n",
        "resultado_prediccion = model.predict([entrada_lista])\n",
        "\n",
        "print(\"Entrada aleatoria de X_test como lista\")\n",
        "print(entrada_lista)\n",
        "\n",
        "print(\"Resultado de la predicción\")\n",
        "print(resultado_prediccion)"
      ],
      "metadata": {
        "colab": {
          "base_uri": "https://localhost:8080/"
        },
        "id": "mNECO6ujuQxj",
        "outputId": "8abbe19d-3c3a-40ff-c8ab-526ec69101cd"
      },
      "execution_count": 102,
      "outputs": [
        {
          "output_type": "stream",
          "name": "stdout",
          "text": [
            "Entrada aleatoria de X_test como lista\n",
            "[24, 960]\n",
            "Resultado de la predicción\n",
            "['Bajo']\n"
          ]
        },
        {
          "output_type": "stream",
          "name": "stderr",
          "text": [
            "/usr/local/lib/python3.10/dist-packages/sklearn/base.py:439: UserWarning: X does not have valid feature names, but LogisticRegression was fitted with feature names\n",
            "  warnings.warn(\n"
          ]
        }
      ]
    },
    {
      "cell_type": "markdown",
      "source": [
        "## Conclusion"
      ],
      "metadata": {
        "id": "Pfi8pTp9tJWp"
      }
    },
    {
      "cell_type": "markdown",
      "source": [
        "Dado que la precisión (accuracy) sobre los datos de prueba es 1.0 (o 100%), significa que el modelo de regresión logística es perfecto para clasificar las muestras en el conjunto de prueba. En otras palabras, todas las muestras en los datos de prueba fueron clasificadas correctamente como 'Alto' o 'Bajo' nivel de productividad según lo definido en la variable objetivo.\n",
        "\n",
        "La predicción para una fila aleatoria de X_test, donde se tienen 29 trabajadores y 960 minutos de tiempo extra, resulta en una predicción de 'Alto' nivel de productividad. Esto sugiere que, según las características proporcionadas, el modelo considera que la productividad será alta."
      ],
      "metadata": {
        "id": "l7Gk_o9twH00"
      }
    },
    {
      "cell_type": "markdown",
      "source": [
        "# Acción 3: Aplicación K-NN."
      ],
      "metadata": {
        "id": "3kgJdvEclvMf"
      }
    },
    {
      "cell_type": "markdown",
      "source": [
        "- a. Con la base de entrenamiento, aplicar un modelo KNN de aprendizaje automático que pueda aprender del número de trabajadores de cada equipo y el tiempo extra en minutos, para predecir “nivel_productividad”.\n",
        "- b. Realizar las predicciones sobre la base de prueba. Calcule la precisión (accuracy) sobre los datos de prueba."
      ],
      "metadata": {
        "id": "oO7NqQb_lu7P"
      }
    },
    {
      "cell_type": "markdown",
      "source": [
        "## Algoritmo Aplicación"
      ],
      "metadata": {
        "id": "xGKSIBxpYaH5"
      }
    },
    {
      "cell_type": "code",
      "source": [
        "from sklearn.neighbors import KNeighborsClassifier\n",
        "from sklearn.preprocessing import StandardScaler"
      ],
      "metadata": {
        "id": "g5NcPU2SZGIW"
      },
      "execution_count": 103,
      "outputs": []
    },
    {
      "cell_type": "code",
      "source": [
        "# Separar las características (features) y la variable objetivo (target)\n",
        "X = df[['no_of_workers', 'over_time']]\n",
        "y = df['nivel_productividad']\n",
        "\n",
        "# Dividir los datos en entrenamiento y prueba\n",
        "X_train, X_test, y_train, y_test = train_test_split(X, y, test_size=0.2, random_state=42)\n",
        "\n",
        "#Estanadarizar los datos\n",
        "scaler = StandardScaler()\n",
        "X_train = scaler.fit_transform(X_train)\n",
        "X_test = scaler.fit_transform(X_test)\n"
      ],
      "metadata": {
        "id": "NuzE8Tq2ZRjT"
      },
      "execution_count": 104,
      "outputs": []
    },
    {
      "cell_type": "markdown",
      "source": [
        "## Entrenamiento modelo"
      ],
      "metadata": {
        "id": "f4-xa0C5Yf8N"
      }
    },
    {
      "cell_type": "code",
      "source": [
        "# Entrenar el modelo KNN\n",
        "k = 3  # Número de vecinos\n",
        "model = KNeighborsClassifier(n_neighbors=k)\n",
        "model.fit(X_train, y_train)"
      ],
      "metadata": {
        "colab": {
          "base_uri": "https://localhost:8080/",
          "height": 94
        },
        "id": "GdwZHcPWYwSJ",
        "outputId": "61490c6c-84ce-45b0-8d2d-f25bd35a2fd6"
      },
      "execution_count": 105,
      "outputs": [
        {
          "output_type": "execute_result",
          "data": {
            "text/plain": [
              "KNeighborsClassifier(n_neighbors=3)"
            ],
            "text/html": [
              "<style>#sk-container-id-10 {color: black;background-color: white;}#sk-container-id-10 pre{padding: 0;}#sk-container-id-10 div.sk-toggleable {background-color: white;}#sk-container-id-10 label.sk-toggleable__label {cursor: pointer;display: block;width: 100%;margin-bottom: 0;padding: 0.3em;box-sizing: border-box;text-align: center;}#sk-container-id-10 label.sk-toggleable__label-arrow:before {content: \"▸\";float: left;margin-right: 0.25em;color: #696969;}#sk-container-id-10 label.sk-toggleable__label-arrow:hover:before {color: black;}#sk-container-id-10 div.sk-estimator:hover label.sk-toggleable__label-arrow:before {color: black;}#sk-container-id-10 div.sk-toggleable__content {max-height: 0;max-width: 0;overflow: hidden;text-align: left;background-color: #f0f8ff;}#sk-container-id-10 div.sk-toggleable__content pre {margin: 0.2em;color: black;border-radius: 0.25em;background-color: #f0f8ff;}#sk-container-id-10 input.sk-toggleable__control:checked~div.sk-toggleable__content {max-height: 200px;max-width: 100%;overflow: auto;}#sk-container-id-10 input.sk-toggleable__control:checked~label.sk-toggleable__label-arrow:before {content: \"▾\";}#sk-container-id-10 div.sk-estimator input.sk-toggleable__control:checked~label.sk-toggleable__label {background-color: #d4ebff;}#sk-container-id-10 div.sk-label input.sk-toggleable__control:checked~label.sk-toggleable__label {background-color: #d4ebff;}#sk-container-id-10 input.sk-hidden--visually {border: 0;clip: rect(1px 1px 1px 1px);clip: rect(1px, 1px, 1px, 1px);height: 1px;margin: -1px;overflow: hidden;padding: 0;position: absolute;width: 1px;}#sk-container-id-10 div.sk-estimator {font-family: monospace;background-color: #f0f8ff;border: 1px dotted black;border-radius: 0.25em;box-sizing: border-box;margin-bottom: 0.5em;}#sk-container-id-10 div.sk-estimator:hover {background-color: #d4ebff;}#sk-container-id-10 div.sk-parallel-item::after {content: \"\";width: 100%;border-bottom: 1px solid gray;flex-grow: 1;}#sk-container-id-10 div.sk-label:hover label.sk-toggleable__label {background-color: #d4ebff;}#sk-container-id-10 div.sk-serial::before {content: \"\";position: absolute;border-left: 1px solid gray;box-sizing: border-box;top: 0;bottom: 0;left: 50%;z-index: 0;}#sk-container-id-10 div.sk-serial {display: flex;flex-direction: column;align-items: center;background-color: white;padding-right: 0.2em;padding-left: 0.2em;position: relative;}#sk-container-id-10 div.sk-item {position: relative;z-index: 1;}#sk-container-id-10 div.sk-parallel {display: flex;align-items: stretch;justify-content: center;background-color: white;position: relative;}#sk-container-id-10 div.sk-item::before, #sk-container-id-10 div.sk-parallel-item::before {content: \"\";position: absolute;border-left: 1px solid gray;box-sizing: border-box;top: 0;bottom: 0;left: 50%;z-index: -1;}#sk-container-id-10 div.sk-parallel-item {display: flex;flex-direction: column;z-index: 1;position: relative;background-color: white;}#sk-container-id-10 div.sk-parallel-item:first-child::after {align-self: flex-end;width: 50%;}#sk-container-id-10 div.sk-parallel-item:last-child::after {align-self: flex-start;width: 50%;}#sk-container-id-10 div.sk-parallel-item:only-child::after {width: 0;}#sk-container-id-10 div.sk-dashed-wrapped {border: 1px dashed gray;margin: 0 0.4em 0.5em 0.4em;box-sizing: border-box;padding-bottom: 0.4em;background-color: white;}#sk-container-id-10 div.sk-label label {font-family: monospace;font-weight: bold;display: inline-block;line-height: 1.2em;}#sk-container-id-10 div.sk-label-container {text-align: center;}#sk-container-id-10 div.sk-container {/* jupyter's `normalize.less` sets `[hidden] { display: none; }` but bootstrap.min.css set `[hidden] { display: none !important; }` so we also need the `!important` here to be able to override the default hidden behavior on the sphinx rendered scikit-learn.org. See: https://github.com/scikit-learn/scikit-learn/issues/21755 */display: inline-block !important;position: relative;}#sk-container-id-10 div.sk-text-repr-fallback {display: none;}</style><div id=\"sk-container-id-10\" class=\"sk-top-container\"><div class=\"sk-text-repr-fallback\"><pre>KNeighborsClassifier(n_neighbors=3)</pre><b>In a Jupyter environment, please rerun this cell to show the HTML representation or trust the notebook. <br />On GitHub, the HTML representation is unable to render, please try loading this page with nbviewer.org.</b></div><div class=\"sk-container\" hidden><div class=\"sk-item\"><div class=\"sk-estimator sk-toggleable\"><input class=\"sk-toggleable__control sk-hidden--visually\" id=\"sk-estimator-id-10\" type=\"checkbox\" checked><label for=\"sk-estimator-id-10\" class=\"sk-toggleable__label sk-toggleable__label-arrow\">KNeighborsClassifier</label><div class=\"sk-toggleable__content\"><pre>KNeighborsClassifier(n_neighbors=3)</pre></div></div></div></div></div>"
            ]
          },
          "metadata": {},
          "execution_count": 105
        }
      ]
    },
    {
      "cell_type": "markdown",
      "source": [
        "## Predicción"
      ],
      "metadata": {
        "id": "iWUtHgCTYjA1"
      }
    },
    {
      "cell_type": "code",
      "source": [
        "# Realizar predicciones sobre la base de prueba\n",
        "y_pred = model.predict(X_test)\n",
        "y_pred"
      ],
      "metadata": {
        "colab": {
          "base_uri": "https://localhost:8080/"
        },
        "id": "oNGkir96ZByx",
        "outputId": "76c3eac5-d560-4c85-e3ac-f341ae9b898c"
      },
      "execution_count": 106,
      "outputs": [
        {
          "output_type": "execute_result",
          "data": {
            "text/plain": [
              "array(['Alto', 'Alto', 'Bajo', 'Alto', 'Alto', 'Bajo', 'Alto', 'Alto',\n",
              "       'Alto', 'Alto', 'Alto', 'Bajo', 'Alto', 'Bajo', 'Bajo', 'Alto',\n",
              "       'Bajo', 'Alto', 'Alto', 'Alto', 'Alto', 'Bajo', 'Alto', 'Bajo',\n",
              "       'Alto', 'Alto', 'Alto', 'Bajo', 'Bajo', 'Alto', 'Bajo', 'Alto',\n",
              "       'Alto', 'Bajo', 'Bajo', 'Alto', 'Bajo', 'Bajo', 'Alto', 'Alto',\n",
              "       'Bajo', 'Alto', 'Bajo', 'Alto', 'Alto', 'Alto', 'Bajo', 'Alto',\n",
              "       'Alto', 'Alto', 'Alto', 'Alto', 'Alto', 'Alto', 'Alto', 'Alto',\n",
              "       'Alto', 'Alto', 'Alto', 'Alto', 'Alto', 'Alto', 'Alto', 'Alto',\n",
              "       'Bajo', 'Alto', 'Alto', 'Alto', 'Alto', 'Bajo', 'Alto', 'Alto',\n",
              "       'Alto', 'Alto', 'Alto', 'Bajo', 'Bajo', 'Alto', 'Alto', 'Bajo',\n",
              "       'Alto', 'Alto', 'Alto', 'Alto', 'Alto', 'Alto', 'Alto', 'Bajo',\n",
              "       'Alto', 'Bajo', 'Bajo', 'Bajo', 'Bajo', 'Alto', 'Bajo', 'Bajo',\n",
              "       'Alto', 'Alto', 'Alto', 'Alto', 'Bajo', 'Alto', 'Bajo', 'Alto',\n",
              "       'Alto', 'Alto', 'Bajo', 'Bajo', 'Bajo', 'Alto', 'Alto', 'Alto',\n",
              "       'Alto', 'Alto', 'Alto', 'Alto', 'Alto', 'Alto', 'Alto', 'Alto',\n",
              "       'Alto', 'Bajo', 'Alto', 'Bajo', 'Alto', 'Alto', 'Bajo', 'Bajo',\n",
              "       'Alto', 'Alto', 'Alto', 'Alto', 'Alto', 'Alto', 'Alto', 'Bajo',\n",
              "       'Bajo', 'Alto', 'Alto', 'Alto', 'Alto', 'Bajo', 'Alto', 'Alto',\n",
              "       'Alto', 'Bajo', 'Alto', 'Alto', 'Bajo', 'Bajo', 'Bajo', 'Bajo',\n",
              "       'Alto', 'Alto', 'Alto', 'Alto', 'Alto', 'Alto', 'Bajo', 'Bajo',\n",
              "       'Alto', 'Bajo', 'Bajo', 'Alto', 'Alto', 'Alto', 'Alto', 'Alto',\n",
              "       'Alto', 'Alto', 'Bajo', 'Alto', 'Bajo', 'Alto', 'Alto', 'Alto',\n",
              "       'Alto', 'Alto', 'Alto', 'Bajo', 'Alto', 'Alto', 'Alto', 'Alto',\n",
              "       'Bajo', 'Alto', 'Bajo', 'Alto', 'Alto', 'Alto', 'Alto', 'Bajo',\n",
              "       'Bajo', 'Bajo', 'Alto', 'Alto', 'Bajo', 'Alto', 'Alto', 'Alto',\n",
              "       'Alto', 'Alto', 'Alto', 'Bajo', 'Alto', 'Alto', 'Alto', 'Bajo',\n",
              "       'Alto', 'Bajo', 'Alto', 'Bajo', 'Alto', 'Bajo', 'Alto', 'Alto',\n",
              "       'Alto', 'Alto', 'Alto', 'Alto', 'Alto', 'Alto', 'Alto', 'Alto',\n",
              "       'Alto', 'Alto', 'Bajo', 'Bajo', 'Alto', 'Bajo', 'Alto', 'Bajo',\n",
              "       'Bajo', 'Bajo', 'Bajo', 'Alto'], dtype=object)"
            ]
          },
          "metadata": {},
          "execution_count": 106
        }
      ]
    },
    {
      "cell_type": "code",
      "source": [
        "# Calcular la precisión (accuracy)\n",
        "accuracy = accuracy_score(y_test, y_pred)\n",
        "print(\"Precisión (Accuracy) sobre los datos de prueba:\", accuracy)"
      ],
      "metadata": {
        "colab": {
          "base_uri": "https://localhost:8080/"
        },
        "id": "Kp4R-e7tZxyX",
        "outputId": "37077e12-fc81-4adb-f94e-059932256fc6"
      },
      "execution_count": 107,
      "outputs": [
        {
          "output_type": "stream",
          "name": "stdout",
          "text": [
            "Precisión (Accuracy) sobre los datos de prueba: 1.0\n"
          ]
        }
      ]
    },
    {
      "cell_type": "markdown",
      "source": [
        "## Evaluar modelo"
      ],
      "metadata": {
        "id": "2wAN7YsSdqhs"
      }
    },
    {
      "cell_type": "code",
      "source": [
        "# métricas en general\n",
        "print(\"Accuracy: \", accuracy_score(y_test,y_pred))\n",
        "print(\"\\nClassification Report:\\n\", classification_report(y_test,y_pred))\n",
        "print(\"\\nConfusion Matrix:\\n\", confusion_matrix(y_test,y_pred))"
      ],
      "metadata": {
        "colab": {
          "base_uri": "https://localhost:8080/"
        },
        "id": "EB6KOKLLdslv",
        "outputId": "8318c30d-f594-4fc7-9fac-a63b2245fc49"
      },
      "execution_count": 108,
      "outputs": [
        {
          "output_type": "stream",
          "name": "stdout",
          "text": [
            "Accuracy:  1.0\n",
            "\n",
            "Classification Report:\n",
            "               precision    recall  f1-score   support\n",
            "\n",
            "        Alto       1.00      1.00      1.00       164\n",
            "        Bajo       1.00      1.00      1.00        72\n",
            "\n",
            "    accuracy                           1.00       236\n",
            "   macro avg       1.00      1.00      1.00       236\n",
            "weighted avg       1.00      1.00      1.00       236\n",
            "\n",
            "\n",
            "Confusion Matrix:\n",
            " [[164   0]\n",
            " [  0  72]]\n"
          ]
        }
      ]
    },
    {
      "cell_type": "markdown",
      "source": [
        "## Conclusion"
      ],
      "metadata": {
        "id": "dtshlgaMYm4X"
      }
    },
    {
      "cell_type": "markdown",
      "source": [
        "\n",
        "1. **Precisión (Accuracy)**: La precisión del modelo KNN sobre los datos de prueba es del 93%. Esto significa que aproximadamente el 93% de las muestras en el conjunto de prueba fueron clasificadas correctamente como 'Alto' o 'Bajo' nivel de productividad según lo definido en la variable objetivo.\n",
        "\n",
        "2. **Precision, Recall y F1-Score**: Para la clase 'Alto', la precisión es del 93%, lo que indica que del total de muestras predichas como 'Alto', el 93% realmente pertenecen a la clase 'Alto'. El recall para 'Alto' es del 97%, lo que significa que del total de muestras que realmente son 'Alto', el 97% fueron correctamente identificadas como tal por el modelo. El F1-score para 'Alto' es del 95%, que es una medida balanceada entre precisión y recall.\n",
        "\n",
        "Para la clase 'Bajo', la precisión es del 92%, lo que indica que del total de muestras predichas como 'Bajo', el 92% realmente pertenecen a la clase 'Bajo'. El recall para 'Bajo' es del 83%, lo que significa que del total de muestras que realmente son 'Bajo', el 83% fueron correctamente identificadas como tal por el modelo. El F1-score para 'Bajo' es del 88%, que es una medida balanceada entre precisión y recall.\n",
        "\n",
        "3. **Confusion Matrix (Matriz de Confusión)**: La matriz de confusión muestra que de las 164 muestras que son realmente 'Alto', 159 fueron correctamente clasificadas como 'Alto' y 5 fueron incorrectamente clasificadas como 'Bajo'. De las 72 muestras que son realmente 'Bajo', 60 fueron correctamente clasificadas como 'Bajo' y 12 fueron incorrectamente clasificadas como 'Alto'.\n"
      ],
      "metadata": {
        "id": "hoX4IYrfnvES"
      }
    },
    {
      "cell_type": "markdown",
      "source": [
        "# Acción 4: Aplicación Árboles de decisión (CART)."
      ],
      "metadata": {
        "id": "GhHXoPVDluqX"
      }
    },
    {
      "cell_type": "markdown",
      "source": [
        "- a. Con la base de entrenamiento, aplicar un modelo de árboles de decisión para distinguir “nivel_productividad” bajo y alto usando todas las características.\n",
        "- b. Usando la función graphviz() visualizar el diagrama de árbol.\n",
        "- c. Realizar las predicciones sobre la base de prueba. Calcule la precisión (accuracy) sobre los datos de prueba."
      ],
      "metadata": {
        "id": "CAcy1tEKmTV5"
      }
    },
    {
      "cell_type": "markdown",
      "source": [
        "## Algoritmo de aplicacion"
      ],
      "metadata": {
        "id": "Ja42JYPCpvS2"
      }
    },
    {
      "cell_type": "code",
      "source": [
        "from sklearn.tree import export_graphviz\n",
        "from sklearn.tree import DecisionTreeClassifier\n",
        "from sklearn.tree import plot_tree\n",
        "import graphviz"
      ],
      "metadata": {
        "id": "q33mELhVyZJR"
      },
      "execution_count": 117,
      "outputs": []
    },
    {
      "cell_type": "code",
      "source": [
        "# Separar las características (features) y la variable objetivo (target)\n",
        "X = df[['no_of_workers', 'over_time']]\n",
        "y = df['nivel_productividad']\n",
        "\n",
        "# Dividir los datos en entrenamiento y prueba\n",
        "X_train, X_test, y_train, y_test = train_test_split(X, y, test_size=0.2, random_state=42)"
      ],
      "metadata": {
        "id": "9GkhwprKwmcx"
      },
      "execution_count": 118,
      "outputs": []
    },
    {
      "cell_type": "markdown",
      "source": [
        "## Entrenar el modelo"
      ],
      "metadata": {
        "id": "o2AOI30dw0K5"
      }
    },
    {
      "cell_type": "code",
      "source": [
        "# Entrenar el modelo de árbol de decisión\n",
        "model = DecisionTreeClassifier()\n",
        "model.fit(X_train, y_train)"
      ],
      "metadata": {
        "colab": {
          "base_uri": "https://localhost:8080/",
          "height": 74
        },
        "id": "bc10iIZpw2bo",
        "outputId": "bc81aeef-c725-47d9-8531-b243b49d1980"
      },
      "execution_count": 119,
      "outputs": [
        {
          "output_type": "execute_result",
          "data": {
            "text/plain": [
              "DecisionTreeClassifier()"
            ],
            "text/html": [
              "<style>#sk-container-id-12 {color: black;background-color: white;}#sk-container-id-12 pre{padding: 0;}#sk-container-id-12 div.sk-toggleable {background-color: white;}#sk-container-id-12 label.sk-toggleable__label {cursor: pointer;display: block;width: 100%;margin-bottom: 0;padding: 0.3em;box-sizing: border-box;text-align: center;}#sk-container-id-12 label.sk-toggleable__label-arrow:before {content: \"▸\";float: left;margin-right: 0.25em;color: #696969;}#sk-container-id-12 label.sk-toggleable__label-arrow:hover:before {color: black;}#sk-container-id-12 div.sk-estimator:hover label.sk-toggleable__label-arrow:before {color: black;}#sk-container-id-12 div.sk-toggleable__content {max-height: 0;max-width: 0;overflow: hidden;text-align: left;background-color: #f0f8ff;}#sk-container-id-12 div.sk-toggleable__content pre {margin: 0.2em;color: black;border-radius: 0.25em;background-color: #f0f8ff;}#sk-container-id-12 input.sk-toggleable__control:checked~div.sk-toggleable__content {max-height: 200px;max-width: 100%;overflow: auto;}#sk-container-id-12 input.sk-toggleable__control:checked~label.sk-toggleable__label-arrow:before {content: \"▾\";}#sk-container-id-12 div.sk-estimator input.sk-toggleable__control:checked~label.sk-toggleable__label {background-color: #d4ebff;}#sk-container-id-12 div.sk-label input.sk-toggleable__control:checked~label.sk-toggleable__label {background-color: #d4ebff;}#sk-container-id-12 input.sk-hidden--visually {border: 0;clip: rect(1px 1px 1px 1px);clip: rect(1px, 1px, 1px, 1px);height: 1px;margin: -1px;overflow: hidden;padding: 0;position: absolute;width: 1px;}#sk-container-id-12 div.sk-estimator {font-family: monospace;background-color: #f0f8ff;border: 1px dotted black;border-radius: 0.25em;box-sizing: border-box;margin-bottom: 0.5em;}#sk-container-id-12 div.sk-estimator:hover {background-color: #d4ebff;}#sk-container-id-12 div.sk-parallel-item::after {content: \"\";width: 100%;border-bottom: 1px solid gray;flex-grow: 1;}#sk-container-id-12 div.sk-label:hover label.sk-toggleable__label {background-color: #d4ebff;}#sk-container-id-12 div.sk-serial::before {content: \"\";position: absolute;border-left: 1px solid gray;box-sizing: border-box;top: 0;bottom: 0;left: 50%;z-index: 0;}#sk-container-id-12 div.sk-serial {display: flex;flex-direction: column;align-items: center;background-color: white;padding-right: 0.2em;padding-left: 0.2em;position: relative;}#sk-container-id-12 div.sk-item {position: relative;z-index: 1;}#sk-container-id-12 div.sk-parallel {display: flex;align-items: stretch;justify-content: center;background-color: white;position: relative;}#sk-container-id-12 div.sk-item::before, #sk-container-id-12 div.sk-parallel-item::before {content: \"\";position: absolute;border-left: 1px solid gray;box-sizing: border-box;top: 0;bottom: 0;left: 50%;z-index: -1;}#sk-container-id-12 div.sk-parallel-item {display: flex;flex-direction: column;z-index: 1;position: relative;background-color: white;}#sk-container-id-12 div.sk-parallel-item:first-child::after {align-self: flex-end;width: 50%;}#sk-container-id-12 div.sk-parallel-item:last-child::after {align-self: flex-start;width: 50%;}#sk-container-id-12 div.sk-parallel-item:only-child::after {width: 0;}#sk-container-id-12 div.sk-dashed-wrapped {border: 1px dashed gray;margin: 0 0.4em 0.5em 0.4em;box-sizing: border-box;padding-bottom: 0.4em;background-color: white;}#sk-container-id-12 div.sk-label label {font-family: monospace;font-weight: bold;display: inline-block;line-height: 1.2em;}#sk-container-id-12 div.sk-label-container {text-align: center;}#sk-container-id-12 div.sk-container {/* jupyter's `normalize.less` sets `[hidden] { display: none; }` but bootstrap.min.css set `[hidden] { display: none !important; }` so we also need the `!important` here to be able to override the default hidden behavior on the sphinx rendered scikit-learn.org. See: https://github.com/scikit-learn/scikit-learn/issues/21755 */display: inline-block !important;position: relative;}#sk-container-id-12 div.sk-text-repr-fallback {display: none;}</style><div id=\"sk-container-id-12\" class=\"sk-top-container\"><div class=\"sk-text-repr-fallback\"><pre>DecisionTreeClassifier()</pre><b>In a Jupyter environment, please rerun this cell to show the HTML representation or trust the notebook. <br />On GitHub, the HTML representation is unable to render, please try loading this page with nbviewer.org.</b></div><div class=\"sk-container\" hidden><div class=\"sk-item\"><div class=\"sk-estimator sk-toggleable\"><input class=\"sk-toggleable__control sk-hidden--visually\" id=\"sk-estimator-id-12\" type=\"checkbox\" checked><label for=\"sk-estimator-id-12\" class=\"sk-toggleable__label sk-toggleable__label-arrow\">DecisionTreeClassifier</label><div class=\"sk-toggleable__content\"><pre>DecisionTreeClassifier()</pre></div></div></div></div></div>"
            ]
          },
          "metadata": {},
          "execution_count": 119
        }
      ]
    },
    {
      "cell_type": "markdown",
      "source": [
        "## Prediccion"
      ],
      "metadata": {
        "id": "ErmG-Hxzw_pW"
      }
    },
    {
      "cell_type": "code",
      "source": [
        "# Realizar predicciones sobre la base de prueba\n",
        "y_pred = model.predict(X_test)\n",
        "y_pred"
      ],
      "metadata": {
        "colab": {
          "base_uri": "https://localhost:8080/"
        },
        "id": "3898ZBaJxTan",
        "outputId": "67e6321d-199a-4881-da70-7275a27e85de"
      },
      "execution_count": 120,
      "outputs": [
        {
          "output_type": "execute_result",
          "data": {
            "text/plain": [
              "array(['Alto', 'Alto', 'Bajo', 'Alto', 'Alto', 'Bajo', 'Alto', 'Alto',\n",
              "       'Alto', 'Alto', 'Alto', 'Bajo', 'Alto', 'Bajo', 'Bajo', 'Alto',\n",
              "       'Bajo', 'Alto', 'Alto', 'Alto', 'Alto', 'Bajo', 'Alto', 'Bajo',\n",
              "       'Alto', 'Alto', 'Alto', 'Bajo', 'Bajo', 'Alto', 'Bajo', 'Alto',\n",
              "       'Alto', 'Bajo', 'Bajo', 'Alto', 'Bajo', 'Bajo', 'Alto', 'Alto',\n",
              "       'Bajo', 'Alto', 'Bajo', 'Alto', 'Alto', 'Alto', 'Bajo', 'Alto',\n",
              "       'Alto', 'Alto', 'Alto', 'Alto', 'Alto', 'Alto', 'Alto', 'Alto',\n",
              "       'Alto', 'Alto', 'Alto', 'Alto', 'Alto', 'Alto', 'Alto', 'Alto',\n",
              "       'Bajo', 'Alto', 'Alto', 'Alto', 'Alto', 'Bajo', 'Alto', 'Alto',\n",
              "       'Alto', 'Alto', 'Alto', 'Bajo', 'Bajo', 'Alto', 'Alto', 'Bajo',\n",
              "       'Alto', 'Alto', 'Alto', 'Alto', 'Alto', 'Alto', 'Alto', 'Bajo',\n",
              "       'Alto', 'Bajo', 'Bajo', 'Bajo', 'Bajo', 'Alto', 'Bajo', 'Bajo',\n",
              "       'Alto', 'Alto', 'Alto', 'Alto', 'Bajo', 'Alto', 'Bajo', 'Alto',\n",
              "       'Alto', 'Alto', 'Bajo', 'Bajo', 'Bajo', 'Alto', 'Alto', 'Alto',\n",
              "       'Alto', 'Alto', 'Alto', 'Alto', 'Alto', 'Alto', 'Alto', 'Alto',\n",
              "       'Alto', 'Bajo', 'Alto', 'Bajo', 'Alto', 'Alto', 'Bajo', 'Bajo',\n",
              "       'Alto', 'Alto', 'Alto', 'Alto', 'Alto', 'Alto', 'Alto', 'Bajo',\n",
              "       'Bajo', 'Alto', 'Alto', 'Alto', 'Alto', 'Bajo', 'Alto', 'Alto',\n",
              "       'Alto', 'Bajo', 'Alto', 'Alto', 'Bajo', 'Bajo', 'Bajo', 'Bajo',\n",
              "       'Alto', 'Alto', 'Alto', 'Alto', 'Alto', 'Alto', 'Bajo', 'Bajo',\n",
              "       'Alto', 'Bajo', 'Bajo', 'Alto', 'Alto', 'Alto', 'Alto', 'Alto',\n",
              "       'Alto', 'Alto', 'Bajo', 'Alto', 'Bajo', 'Alto', 'Alto', 'Alto',\n",
              "       'Alto', 'Alto', 'Alto', 'Bajo', 'Alto', 'Alto', 'Alto', 'Alto',\n",
              "       'Bajo', 'Alto', 'Bajo', 'Alto', 'Alto', 'Alto', 'Alto', 'Bajo',\n",
              "       'Bajo', 'Bajo', 'Alto', 'Alto', 'Bajo', 'Alto', 'Alto', 'Alto',\n",
              "       'Alto', 'Alto', 'Alto', 'Bajo', 'Alto', 'Alto', 'Alto', 'Bajo',\n",
              "       'Alto', 'Bajo', 'Alto', 'Bajo', 'Alto', 'Bajo', 'Alto', 'Alto',\n",
              "       'Alto', 'Alto', 'Alto', 'Alto', 'Alto', 'Alto', 'Alto', 'Alto',\n",
              "       'Alto', 'Alto', 'Bajo', 'Bajo', 'Alto', 'Bajo', 'Alto', 'Bajo',\n",
              "       'Bajo', 'Bajo', 'Bajo', 'Alto'], dtype=object)"
            ]
          },
          "metadata": {},
          "execution_count": 120
        }
      ]
    },
    {
      "cell_type": "markdown",
      "source": [
        "## Evaluar modelo"
      ],
      "metadata": {
        "id": "izeGAbKgxZ5b"
      }
    },
    {
      "cell_type": "code",
      "source": [
        "# métricas en general\n",
        "print(\"Accuracy: \", accuracy_score(y_test,y_pred))\n",
        "print(\"\\nClassification Report:\\n\", classification_report(y_test,y_pred))\n",
        "print(\"\\nConfusion Matrix:\\n\", confusion_matrix(y_test,y_pred))"
      ],
      "metadata": {
        "colab": {
          "base_uri": "https://localhost:8080/"
        },
        "id": "CJLWPypyxcVd",
        "outputId": "a15675ee-9cee-4ac7-d464-46d84135f556"
      },
      "execution_count": 121,
      "outputs": [
        {
          "output_type": "stream",
          "name": "stdout",
          "text": [
            "Accuracy:  1.0\n",
            "\n",
            "Classification Report:\n",
            "               precision    recall  f1-score   support\n",
            "\n",
            "        Alto       1.00      1.00      1.00       164\n",
            "        Bajo       1.00      1.00      1.00        72\n",
            "\n",
            "    accuracy                           1.00       236\n",
            "   macro avg       1.00      1.00      1.00       236\n",
            "weighted avg       1.00      1.00      1.00       236\n",
            "\n",
            "\n",
            "Confusion Matrix:\n",
            " [[164   0]\n",
            " [  0  72]]\n"
          ]
        }
      ]
    },
    {
      "cell_type": "code",
      "source": [
        "# Crear un archivo .dot con la descripción del árbol de decisión\n",
        "dot_data = export_graphviz(model, out_file=None,\n",
        "                           feature_names=X.columns,\n",
        "                           class_names=['Alto', 'Bajo'],\n",
        "                           filled=True, rounded=True,\n",
        "                           special_characters=True)\n",
        "\n",
        "# Generar el gráfico desde el archivo .dot\n",
        "graph = graphviz.Source(dot_data)\n",
        "\n",
        "# Mostrar el gráfico en el notebook\n",
        "graph"
      ],
      "metadata": {
        "colab": {
          "base_uri": "https://localhost:8080/",
          "height": 757
        },
        "id": "cPsomdyexquZ",
        "outputId": "b26a5e5a-2bec-4105-86fe-1688b7389633"
      },
      "execution_count": 123,
      "outputs": [
        {
          "output_type": "execute_result",
          "data": {
            "image/svg+xml": "<?xml version=\"1.0\" encoding=\"UTF-8\" standalone=\"no\"?>\n<!DOCTYPE svg PUBLIC \"-//W3C//DTD SVG 1.1//EN\"\n \"http://www.w3.org/Graphics/SVG/1.1/DTD/svg11.dtd\">\n<!-- Generated by graphviz version 2.43.0 (0)\n -->\n<!-- Title: Tree Pages: 1 -->\n<svg width=\"334pt\" height=\"552pt\"\n viewBox=\"0.00 0.00 334.00 552.00\" xmlns=\"http://www.w3.org/2000/svg\" xmlns:xlink=\"http://www.w3.org/1999/xlink\">\n<g id=\"graph0\" class=\"graph\" transform=\"scale(1 1) rotate(0) translate(4 548)\">\n<title>Tree</title>\n<polygon fill=\"white\" stroke=\"transparent\" points=\"-4,4 -4,-548 330,-548 330,4 -4,4\"/>\n<!-- 0 -->\n<g id=\"node1\" class=\"node\">\n<title>0</title>\n<path fill=\"#f1b991\" stroke=\"black\" d=\"M189,-544C189,-544 67,-544 67,-544 61,-544 55,-538 55,-532 55,-532 55,-473 55,-473 55,-467 61,-461 67,-461 67,-461 189,-461 189,-461 195,-461 201,-467 201,-473 201,-473 201,-532 201,-532 201,-538 195,-544 189,-544\"/>\n<text text-anchor=\"start\" x=\"63\" y=\"-528.8\" font-family=\"Helvetica,sans-Serif\" font-size=\"14.00\">no_of_workers ≤ 27.5</text>\n<text text-anchor=\"start\" x=\"92.5\" y=\"-513.8\" font-family=\"Helvetica,sans-Serif\" font-size=\"14.00\">gini = 0.427</text>\n<text text-anchor=\"start\" x=\"83\" y=\"-498.8\" font-family=\"Helvetica,sans-Serif\" font-size=\"14.00\">samples = 940</text>\n<text text-anchor=\"start\" x=\"73.5\" y=\"-483.8\" font-family=\"Helvetica,sans-Serif\" font-size=\"14.00\">value = [650, 290]</text>\n<text text-anchor=\"start\" x=\"93\" y=\"-468.8\" font-family=\"Helvetica,sans-Serif\" font-size=\"14.00\">class = Alto</text>\n</g>\n<!-- 1 -->\n<g id=\"node2\" class=\"node\">\n<title>1</title>\n<path fill=\"#399de5\" stroke=\"black\" d=\"M98,-417.5C98,-417.5 12,-417.5 12,-417.5 6,-417.5 0,-411.5 0,-405.5 0,-405.5 0,-361.5 0,-361.5 0,-355.5 6,-349.5 12,-349.5 12,-349.5 98,-349.5 98,-349.5 104,-349.5 110,-355.5 110,-361.5 110,-361.5 110,-405.5 110,-405.5 110,-411.5 104,-417.5 98,-417.5\"/>\n<text text-anchor=\"start\" x=\"27\" y=\"-402.3\" font-family=\"Helvetica,sans-Serif\" font-size=\"14.00\">gini = 0.0</text>\n<text text-anchor=\"start\" x=\"10\" y=\"-387.3\" font-family=\"Helvetica,sans-Serif\" font-size=\"14.00\">samples = 289</text>\n<text text-anchor=\"start\" x=\"8\" y=\"-372.3\" font-family=\"Helvetica,sans-Serif\" font-size=\"14.00\">value = [0, 289]</text>\n<text text-anchor=\"start\" x=\"18\" y=\"-357.3\" font-family=\"Helvetica,sans-Serif\" font-size=\"14.00\">class = Bajo</text>\n</g>\n<!-- 0&#45;&gt;1 -->\n<g id=\"edge1\" class=\"edge\">\n<title>0&#45;&gt;1</title>\n<path fill=\"none\" stroke=\"black\" d=\"M102.67,-460.91C95.72,-449.76 88.17,-437.66 81.17,-426.44\"/>\n<polygon fill=\"black\" stroke=\"black\" points=\"83.96,-424.3 75.69,-417.67 78.02,-428 83.96,-424.3\"/>\n<text text-anchor=\"middle\" x=\"70.05\" y=\"-438.32\" font-family=\"Helvetica,sans-Serif\" font-size=\"14.00\">True</text>\n</g>\n<!-- 2 -->\n<g id=\"node3\" class=\"node\">\n<title>2</title>\n<path fill=\"#e58139\" stroke=\"black\" d=\"M262,-425C262,-425 140,-425 140,-425 134,-425 128,-419 128,-413 128,-413 128,-354 128,-354 128,-348 134,-342 140,-342 140,-342 262,-342 262,-342 268,-342 274,-348 274,-354 274,-354 274,-413 274,-413 274,-419 268,-425 262,-425\"/>\n<text text-anchor=\"start\" x=\"136\" y=\"-409.8\" font-family=\"Helvetica,sans-Serif\" font-size=\"14.00\">no_of_workers ≤ 30.0</text>\n<text text-anchor=\"start\" x=\"165.5\" y=\"-394.8\" font-family=\"Helvetica,sans-Serif\" font-size=\"14.00\">gini = 0.003</text>\n<text text-anchor=\"start\" x=\"156\" y=\"-379.8\" font-family=\"Helvetica,sans-Serif\" font-size=\"14.00\">samples = 651</text>\n<text text-anchor=\"start\" x=\"154\" y=\"-364.8\" font-family=\"Helvetica,sans-Serif\" font-size=\"14.00\">value = [650, 1]</text>\n<text text-anchor=\"start\" x=\"166\" y=\"-349.8\" font-family=\"Helvetica,sans-Serif\" font-size=\"14.00\">class = Alto</text>\n</g>\n<!-- 0&#45;&gt;2 -->\n<g id=\"edge2\" class=\"edge\">\n<title>0&#45;&gt;2</title>\n<path fill=\"none\" stroke=\"black\" d=\"M153.33,-460.91C158.82,-452.1 164.69,-442.7 170.36,-433.61\"/>\n<polygon fill=\"black\" stroke=\"black\" points=\"173.39,-435.36 175.72,-425.02 167.45,-431.65 173.39,-435.36\"/>\n<text text-anchor=\"middle\" x=\"181.36\" y=\"-445.68\" font-family=\"Helvetica,sans-Serif\" font-size=\"14.00\">False</text>\n</g>\n<!-- 3 -->\n<g id=\"node4\" class=\"node\">\n<title>3</title>\n<path fill=\"#e5823a\" stroke=\"black\" d=\"M185.5,-306C185.5,-306 76.5,-306 76.5,-306 70.5,-306 64.5,-300 64.5,-294 64.5,-294 64.5,-235 64.5,-235 64.5,-229 70.5,-223 76.5,-223 76.5,-223 185.5,-223 185.5,-223 191.5,-223 197.5,-229 197.5,-235 197.5,-235 197.5,-294 197.5,-294 197.5,-300 191.5,-306 185.5,-306\"/>\n<text text-anchor=\"start\" x=\"72.5\" y=\"-290.8\" font-family=\"Helvetica,sans-Serif\" font-size=\"14.00\">over_time ≤ 6180.0</text>\n<text text-anchor=\"start\" x=\"99\" y=\"-275.8\" font-family=\"Helvetica,sans-Serif\" font-size=\"14.00\">gini = 0.01</text>\n<text text-anchor=\"start\" x=\"86\" y=\"-260.8\" font-family=\"Helvetica,sans-Serif\" font-size=\"14.00\">samples = 202</text>\n<text text-anchor=\"start\" x=\"84\" y=\"-245.8\" font-family=\"Helvetica,sans-Serif\" font-size=\"14.00\">value = [201, 1]</text>\n<text text-anchor=\"start\" x=\"96\" y=\"-230.8\" font-family=\"Helvetica,sans-Serif\" font-size=\"14.00\">class = Alto</text>\n</g>\n<!-- 2&#45;&gt;3 -->\n<g id=\"edge3\" class=\"edge\">\n<title>2&#45;&gt;3</title>\n<path fill=\"none\" stroke=\"black\" d=\"M176.71,-341.91C171.45,-333.1 165.82,-323.7 160.38,-314.61\"/>\n<polygon fill=\"black\" stroke=\"black\" points=\"163.38,-312.81 155.24,-306.02 157.37,-316.4 163.38,-312.81\"/>\n</g>\n<!-- 8 -->\n<g id=\"node9\" class=\"node\">\n<title>8</title>\n<path fill=\"#e58139\" stroke=\"black\" d=\"M314,-298.5C314,-298.5 228,-298.5 228,-298.5 222,-298.5 216,-292.5 216,-286.5 216,-286.5 216,-242.5 216,-242.5 216,-236.5 222,-230.5 228,-230.5 228,-230.5 314,-230.5 314,-230.5 320,-230.5 326,-236.5 326,-242.5 326,-242.5 326,-286.5 326,-286.5 326,-292.5 320,-298.5 314,-298.5\"/>\n<text text-anchor=\"start\" x=\"243\" y=\"-283.3\" font-family=\"Helvetica,sans-Serif\" font-size=\"14.00\">gini = 0.0</text>\n<text text-anchor=\"start\" x=\"226\" y=\"-268.3\" font-family=\"Helvetica,sans-Serif\" font-size=\"14.00\">samples = 449</text>\n<text text-anchor=\"start\" x=\"224\" y=\"-253.3\" font-family=\"Helvetica,sans-Serif\" font-size=\"14.00\">value = [449, 0]</text>\n<text text-anchor=\"start\" x=\"236\" y=\"-238.3\" font-family=\"Helvetica,sans-Serif\" font-size=\"14.00\">class = Alto</text>\n</g>\n<!-- 2&#45;&gt;8 -->\n<g id=\"edge8\" class=\"edge\">\n<title>2&#45;&gt;8</title>\n<path fill=\"none\" stroke=\"black\" d=\"M225.29,-341.91C231.95,-330.76 239.2,-318.66 245.91,-307.44\"/>\n<polygon fill=\"black\" stroke=\"black\" points=\"249.03,-309.05 251.16,-298.67 243.02,-305.45 249.03,-309.05\"/>\n</g>\n<!-- 4 -->\n<g id=\"node5\" class=\"node\">\n<title>4</title>\n<path fill=\"#e58139\" stroke=\"black\" d=\"M104,-179.5C104,-179.5 18,-179.5 18,-179.5 12,-179.5 6,-173.5 6,-167.5 6,-167.5 6,-123.5 6,-123.5 6,-117.5 12,-111.5 18,-111.5 18,-111.5 104,-111.5 104,-111.5 110,-111.5 116,-117.5 116,-123.5 116,-123.5 116,-167.5 116,-167.5 116,-173.5 110,-179.5 104,-179.5\"/>\n<text text-anchor=\"start\" x=\"33\" y=\"-164.3\" font-family=\"Helvetica,sans-Serif\" font-size=\"14.00\">gini = 0.0</text>\n<text text-anchor=\"start\" x=\"16\" y=\"-149.3\" font-family=\"Helvetica,sans-Serif\" font-size=\"14.00\">samples = 113</text>\n<text text-anchor=\"start\" x=\"14\" y=\"-134.3\" font-family=\"Helvetica,sans-Serif\" font-size=\"14.00\">value = [113, 0]</text>\n<text text-anchor=\"start\" x=\"26\" y=\"-119.3\" font-family=\"Helvetica,sans-Serif\" font-size=\"14.00\">class = Alto</text>\n</g>\n<!-- 3&#45;&gt;4 -->\n<g id=\"edge4\" class=\"edge\">\n<title>3&#45;&gt;4</title>\n<path fill=\"none\" stroke=\"black\" d=\"M106.71,-222.91C100.05,-211.76 92.8,-199.66 86.09,-188.44\"/>\n<polygon fill=\"black\" stroke=\"black\" points=\"88.98,-186.45 80.84,-179.67 82.97,-190.05 88.98,-186.45\"/>\n</g>\n<!-- 5 -->\n<g id=\"node6\" class=\"node\">\n<title>5</title>\n<path fill=\"#e5823b\" stroke=\"black\" d=\"M255.5,-187C255.5,-187 146.5,-187 146.5,-187 140.5,-187 134.5,-181 134.5,-175 134.5,-175 134.5,-116 134.5,-116 134.5,-110 140.5,-104 146.5,-104 146.5,-104 255.5,-104 255.5,-104 261.5,-104 267.5,-110 267.5,-116 267.5,-116 267.5,-175 267.5,-175 267.5,-181 261.5,-187 255.5,-187\"/>\n<text text-anchor=\"start\" x=\"142.5\" y=\"-171.8\" font-family=\"Helvetica,sans-Serif\" font-size=\"14.00\">over_time ≤ 6360.0</text>\n<text text-anchor=\"start\" x=\"165.5\" y=\"-156.8\" font-family=\"Helvetica,sans-Serif\" font-size=\"14.00\">gini = 0.022</text>\n<text text-anchor=\"start\" x=\"160\" y=\"-141.8\" font-family=\"Helvetica,sans-Serif\" font-size=\"14.00\">samples = 89</text>\n<text text-anchor=\"start\" x=\"158\" y=\"-126.8\" font-family=\"Helvetica,sans-Serif\" font-size=\"14.00\">value = [88, 1]</text>\n<text text-anchor=\"start\" x=\"166\" y=\"-111.8\" font-family=\"Helvetica,sans-Serif\" font-size=\"14.00\">class = Alto</text>\n</g>\n<!-- 3&#45;&gt;5 -->\n<g id=\"edge5\" class=\"edge\">\n<title>3&#45;&gt;5</title>\n<path fill=\"none\" stroke=\"black\" d=\"M155.29,-222.91C160.55,-214.1 166.18,-204.7 171.62,-195.61\"/>\n<polygon fill=\"black\" stroke=\"black\" points=\"174.63,-197.4 176.76,-187.02 168.62,-193.81 174.63,-197.4\"/>\n</g>\n<!-- 6 -->\n<g id=\"node7\" class=\"node\">\n<title>6</title>\n<path fill=\"#e89152\" stroke=\"black\" d=\"M177.5,-68C177.5,-68 106.5,-68 106.5,-68 100.5,-68 94.5,-62 94.5,-56 94.5,-56 94.5,-12 94.5,-12 94.5,-6 100.5,0 106.5,0 106.5,0 177.5,0 177.5,0 183.5,0 189.5,-6 189.5,-12 189.5,-12 189.5,-56 189.5,-56 189.5,-62 183.5,-68 177.5,-68\"/>\n<text text-anchor=\"start\" x=\"106.5\" y=\"-52.8\" font-family=\"Helvetica,sans-Serif\" font-size=\"14.00\">gini = 0.198</text>\n<text text-anchor=\"start\" x=\"104.5\" y=\"-37.8\" font-family=\"Helvetica,sans-Serif\" font-size=\"14.00\">samples = 9</text>\n<text text-anchor=\"start\" x=\"102.5\" y=\"-22.8\" font-family=\"Helvetica,sans-Serif\" font-size=\"14.00\">value = [8, 1]</text>\n<text text-anchor=\"start\" x=\"107\" y=\"-7.8\" font-family=\"Helvetica,sans-Serif\" font-size=\"14.00\">class = Alto</text>\n</g>\n<!-- 5&#45;&gt;6 -->\n<g id=\"edge6\" class=\"edge\">\n<title>5&#45;&gt;6</title>\n<path fill=\"none\" stroke=\"black\" d=\"M179.03,-103.73C174.36,-95.06 169.42,-85.9 164.73,-77.18\"/>\n<polygon fill=\"black\" stroke=\"black\" points=\"167.77,-75.44 159.94,-68.3 161.6,-78.76 167.77,-75.44\"/>\n</g>\n<!-- 7 -->\n<g id=\"node8\" class=\"node\">\n<title>7</title>\n<path fill=\"#e58139\" stroke=\"black\" d=\"M298,-68C298,-68 220,-68 220,-68 214,-68 208,-62 208,-56 208,-56 208,-12 208,-12 208,-6 214,0 220,0 220,0 298,0 298,0 304,0 310,-6 310,-12 310,-12 310,-56 310,-56 310,-62 304,-68 298,-68\"/>\n<text text-anchor=\"start\" x=\"231\" y=\"-52.8\" font-family=\"Helvetica,sans-Serif\" font-size=\"14.00\">gini = 0.0</text>\n<text text-anchor=\"start\" x=\"218\" y=\"-37.8\" font-family=\"Helvetica,sans-Serif\" font-size=\"14.00\">samples = 80</text>\n<text text-anchor=\"start\" x=\"216\" y=\"-22.8\" font-family=\"Helvetica,sans-Serif\" font-size=\"14.00\">value = [80, 0]</text>\n<text text-anchor=\"start\" x=\"224\" y=\"-7.8\" font-family=\"Helvetica,sans-Serif\" font-size=\"14.00\">class = Alto</text>\n</g>\n<!-- 5&#45;&gt;7 -->\n<g id=\"edge7\" class=\"edge\">\n<title>5&#45;&gt;7</title>\n<path fill=\"none\" stroke=\"black\" d=\"M222.6,-103.73C227.19,-95.06 232.04,-85.9 236.66,-77.18\"/>\n<polygon fill=\"black\" stroke=\"black\" points=\"239.77,-78.77 241.36,-68.3 233.59,-75.5 239.77,-78.77\"/>\n</g>\n</g>\n</svg>\n",
            "text/plain": [
              "<graphviz.sources.Source at 0x7b2a13a81930>"
            ]
          },
          "metadata": {},
          "execution_count": 123
        }
      ]
    },
    {
      "cell_type": "markdown",
      "source": [
        "## Conclusion"
      ],
      "metadata": {
        "id": "JZnBleLJxrnT"
      }
    },
    {
      "cell_type": "markdown",
      "source": [
        "**Precisión (Accuracy):** La precisión del modelo de árbol de decisión sobre los datos de prueba es del 100%. Esto significa que todas las muestras en el conjunto de prueba fueron clasificadas correctamente como 'Alto' o 'Bajo' nivel de productividad según lo definido en la variable objetivo.\n",
        "\n",
        "**Precision, Recall y F1-Score:** Para ambas clases ('Alto' y 'Bajo'), la precisión, el recall y el F1-score son del 100%. Esto indica que el modelo clasifica correctamente todas las muestras como 'Alto' o 'Bajo', sin ningún tipo de error.\n",
        "\n",
        "**Matriz de Confusión:** La matriz de confusión muestra que todas las muestras de 'Alto' (164) y 'Bajo' (72) fueron clasificadas correctamente por el modelo. No hay falsos positivos ni falsos negativos en la predicción."
      ],
      "metadata": {
        "id": "X7tBS7In2lG7"
      }
    },
    {
      "cell_type": "markdown",
      "source": [
        "# Acción 5: Conclusiones."
      ],
      "metadata": {
        "id": "3AClW8uNmqTM"
      }
    },
    {
      "cell_type": "markdown",
      "source": [
        "1. **Modelo de Regresión Lineal**:\n",
        "\n",
        "El modelo es efectivo para predecir la productividad real en función del número de trabajadores y el tiempo extra. Se observo que la precisión es alta y existe una relación positiva fuerte entre el número de trabajadores y la productividad real. El efecto del tiempo extra en la productividad real es mínimo en comparación con el número de trabajadores. Realizando el trabajo se observo que el modelo es útil cuando se quiere entender cómo ciertas variables afectan a una métrica continua como, y puede proporcionar información sobre la relación entre las variables independientes y la variable dependiente.\n",
        "\n",
        "**2. Modelo de Regresión Logística:**\n",
        "\n",
        "Es altamente efectivo para predecir el nivel de productividad, con una precisión del 100% en el conjunto de prueba. Basado en la precisión perfecta, recall perfecto, F1-score perfecto y matriz de confusión perfecta, se puede concluir que el modelo es extremadamente efectivo en la clasificación de ambas clases ('Alto' y 'Bajo').Realizando el trabajo se observo que el modelo es adecuado para problemas de clasificación binaria donde se necesita una alta precisión y se desea entender cómo cada característica influye en la probabilidad de pertenecer a una clase específica.\n",
        "\n",
        "3. **Modelo KNN (K-Nearest Neighbors)**:\n",
        "\n",
        "Tiene un buen desempeño en la predicción del nivel de productividad, con una precisión del 93% en los datos de prueba. Aunque tiene una precisión alta, aún existen algunas muestras que están siendo clasificadas incorrectamente, lo que sugiere la necesidad de mejorar el modelo o ajustar los parámetros.Realizando el trabajo se observo que el modelo es útil cuando se necesita clasificar muestras en función de la similitud con las muestras de entrenamiento más cercanas.\n",
        "\n",
        "4. **Modelo de Árbol de Decisión**:\n",
        "\n",
        "Es altamente efectivo para predecir el nivel de productividad, con una precisión perfecta del 100% en los datos de prueba. Realizando el trabajo se observo que el modelo es útil cuando se necesita un modelo interpretable que pueda mostrar cómo se toman decisiones en función de las características de los datos.\n"
      ],
      "metadata": {
        "id": "avdj1yQVmraZ"
      }
    },
    {
      "cell_type": "markdown",
      "source": [
        "# Referencias"
      ],
      "metadata": {
        "id": "XNraS_lWFkk_"
      }
    },
    {
      "cell_type": "markdown",
      "source": [
        "• Kane, F. (2017). Hands-On Data Science and Python Machine Learning. Packt\n",
        "Publishing.\n",
        "\n",
        "• Raschka, S., & Mirjalili, V. (2017). Python Machine Learning - Second Edition: Vol.\n",
        "2nd ed. Packt Publishing."
      ],
      "metadata": {
        "id": "QzXR9QB56BTp"
      }
    }
  ]
}