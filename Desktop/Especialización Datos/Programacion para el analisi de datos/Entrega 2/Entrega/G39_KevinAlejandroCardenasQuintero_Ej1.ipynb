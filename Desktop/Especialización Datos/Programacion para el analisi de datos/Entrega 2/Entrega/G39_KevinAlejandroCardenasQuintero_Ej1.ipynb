{
  "nbformat": 4,
  "nbformat_minor": 0,
  "metadata": {
    "colab": {
      "provenance": [],
      "toc_visible": true
    },
    "kernelspec": {
      "name": "python3",
      "display_name": "Python 3"
    },
    "language_info": {
      "name": "python"
    }
  },
  "cells": [
    {
      "cell_type": "markdown",
      "source": [
        " # Programación para el Análisis de Datos\n",
        " ### Tarea 2\n",
        " ##### Presentado por: Kevin Alejandro Cardenas Quintero\n",
        " ##### Grupo 39\n",
        " ##### Código: 203008069\n",
        " ##### Presentado a: Felipe Alexander Pipicano Guzman\n",
        " ##### Universidad Nacional Abierta y a Distancia - UNAD\n",
        " ##### 2 de Abril 2024"
      ],
      "metadata": {
        "id": "lbB1ZXg7pkwj"
      }
    },
    {
      "cell_type": "markdown",
      "source": [
        "# Ejercicio 1\n",
        "\n",
        "1. Responda las siguientes preguntas en la introducción:\n",
        "\n",
        "o ¿Qué es REST web service y cómo se utilizan?\n",
        "\n",
        "o ¿Qué es una RESTful API?\n",
        "\n",
        "o ¿Qué es JSON?\n",
        "\n",
        "2. Desarrolle un código de python que le permita obtener los datos de las naves de SpaceX, desde la API spacexdata v4: https://api.spacexdata.com/v4/ships, tenga en cuenta que debe usar el paquete requests, funciones:\n",
        "\n",
        "o request.get\n",
        "\n",
        "o Response.json\n",
        "\n",
        "o De ser necesario, puede revisar su documentación en:\n",
        "\n",
        "https://requests.readthedocs.io/en/latest/api/?requests.Re\n",
        "quest\n",
        "\n",
        "• Cargue el json de la respuesta del request anterior como un DataFrame de pandas (ayuda: función pd.DataFrame.from_dict).\n",
        "\n",
        "• Determine cuantas columnas tiene el DataFrame anterior, los tipos de datos (Dtype) que tiene y los datos ausentes (ayuda: imprima el info() del DataFrame de pandas).\n",
        "\n",
        "• Con la información anterior, en una celda markdown concluya cuales de las variables podrían ser utilizadas para un análisis y clasifíquelas entre variables cualitativas (categóricas) y cuantitativas (numéricas).\n",
        "\n",
        "• Determine el total de naves y cuántas están activas.\n",
        "\n",
        "• Visualice el histograma de los pesos de las naves en kg.\n"
      ],
      "metadata": {
        "id": "4XNSEzu9qVMs"
      }
    },
    {
      "cell_type": "markdown",
      "source": [
        "## Paso 1. Preguntas:\n",
        "\n",
        "#### **¿Qué es REST web service y cómo se utilizan?**\n",
        "\n",
        "Imagina que estás en una biblioteca y quieres pedir prestado un libro. Vas al mostrador, donde hay una persona encargada de gestionar los préstamos. Le dices el título del libro que deseas y, en respuesta, esa persona busca el libro en el sistema y te lo presta si está disponible. Después, tú puedes leer el libro y devolverlo cuando hayas terminado.\n",
        "\n",
        "Ahora, imagina que esta interacción entre tú y la persona del mostrador es como una solicitud y respuesta en un servicio web REST. Tú, como cliente, envías una solicitud (por ejemplo, \"Quiero el libro con el título 'Moby Dick'\") al servidor, que es como el mostrador de la biblioteca. El servidor procesa tu solicitud y te devuelve una respuesta (por ejemplo, \"Aquí está el libro 'Moby Dick', lo puedes encontrar en la sección de clásicos\").\n",
        "\n",
        "En un servicio web REST, las solicitudes y respuestas se realizan a través del protocolo HTTP, utilizando métodos como GET, POST, PUT y DELETE para realizar diferentes operaciones en los recursos (en este caso, el libro).operación.\n",
        "\n",
        "#### **¿Qué es una RESTful API?**\n",
        "\n",
        "Una API RESTful es como un conjunto de instrucciones que siguen un conjunto específico de reglas. Imagina que estás jugando con un set de bloques de construcción. Cada bloque tiene una forma y un color específicos, y puedes combinarlos de ciertas maneras para construir diferentes cosas, como casas, castillos o automóviles.\n",
        "\n",
        "En una API RESTful, los bloques de construcción son las URI (Uniform Resource Identifier) que identifican recursos específicos, como libros en una biblioteca. Los métodos HTTP, como GET, POST, PUT y DELETE, son las instrucciones que te permiten interactuar con esos recursos de diferentes maneras, como obtener información sobre un libro, agregar un nuevo libro, actualizar la información de un libro existente o eliminar un libro.\n",
        "\n",
        "Así que, una API RESTful te proporciona un conjunto de reglas y convenciones para interactuar con recursos a través de solicitudes HTTP, de una manera consistente y predecible.\n",
        "\n",
        "#### **¿Qué es JSON?**\n",
        "\n",
        "JSON es como un lenguaje común que permite a las diferentes partes de un sistema de software comunicarse entre sí de manera eficiente y comprensible. Imagina que estás en una fiesta internacional con personas que hablan diferentes idiomas. Para comunicarte con todos, podrías usar un lenguaje universal simple que todos puedan entender, como dibujos o gestos.\n",
        "\n",
        "En el mundo de la programación, JSON es como ese lenguaje universal simple. Es fácil de entender para las computadoras y se puede usar para representar datos de una manera que sea fácilmente intercambiable entre diferentes sistemas y lenguajes de programación.\n",
        "\n",
        "JSON utiliza una estructura simple de pares clave-valor, similar a un diccionario o una lista de compras. Por ejemplo, podrías tener un objeto JSON que represente información sobre un libro, con claves como \"título\", \"autor\" y \"año de publicación\", y sus respectivos valores. Esto hace que sea muy conveniente para enviar y recibir datos entre un cliente y un servidor en un servicio web RESTful.\n",
        "\n"
      ],
      "metadata": {
        "id": "IWUleHEIqYHf"
      }
    },
    {
      "cell_type": "markdown",
      "source": [
        "## Paso 2\n",
        "\n",
        " Desarrolle un código de python que le permita obtener los datos de las naves de SpaceX, desde la API spacexdata v4: https://api.spacexdata.com/v4/ships, tenga en cuenta que debe usar el paquete requests, funciones:\n",
        "\n",
        "o request.get\n",
        "\n",
        "o Response.json\n",
        "\n",
        "o De ser necesario, puede revisar su documentación en:\n",
        "https://requests.readthedocs.io/en/latest/api/?requests.Re\n",
        "quest"
      ],
      "metadata": {
        "id": "dizb-6FhNWE9"
      }
    },
    {
      "cell_type": "code",
      "source": [
        "import requests\n",
        "\n",
        "def obtener_datos():\n",
        "    url = \"https://api.spacexdata.com/v4/ships\" #Formato String\n",
        "\n",
        "    try:\n",
        "        response = requests.get(url) #Trae los datos de la url\n",
        "        response.raise_for_status()  # Si hay un error en la solicitud, lanzará una excepción\n",
        "        datos_naves = response.json()  # Convertir la respuesta a formato JSON\n",
        "        return datos_naves\n",
        "    except requests.exceptions.RequestException as e:\n",
        "        print(\"Error al realizar la solicitud:\", e)\n",
        "        return None\n",
        "\n",
        "datos_naves = obtener_datos()"
      ],
      "metadata": {
        "id": "Vke-KS0-Iohf"
      },
      "execution_count": 1,
      "outputs": []
    },
    {
      "cell_type": "markdown",
      "source": [
        "## Paso 3\n",
        "\n",
        "Cargue el json de la respuesta del request anterior como un DataFrame de pandas (ayuda: función pd.DataFrame.from_dict)."
      ],
      "metadata": {
        "id": "YfQjZxBv4Ufh"
      }
    },
    {
      "cell_type": "code",
      "source": [
        "import pandas as pd\n",
        "\n",
        "df = pd.DataFrame.from_dict(datos_naves) # Coloca un diccionario en un dataframe"
      ],
      "metadata": {
        "id": "OfhHl7E94aAl"
      },
      "execution_count": 2,
      "outputs": []
    },
    {
      "cell_type": "markdown",
      "source": [
        "## Paso 4\n",
        "Determine cuantas columnas tiene el DataFrame anterior, los tipos de datos (Dtype) que tiene y los datos ausentes (ayuda: imprima el info() del DataFrame de pandas)."
      ],
      "metadata": {
        "id": "HUXei5LV6FkB"
      }
    },
    {
      "cell_type": "code",
      "source": [
        "df.info() # información del df"
      ],
      "metadata": {
        "colab": {
          "base_uri": "https://localhost:8080/"
        },
        "id": "XeCT5Q8J6MKr",
        "outputId": "b1d61c74-af75-467b-fb20-c54c377ed4f5"
      },
      "execution_count": 3,
      "outputs": [
        {
          "output_type": "stream",
          "name": "stdout",
          "text": [
            "<class 'pandas.core.frame.DataFrame'>\n",
            "RangeIndex: 29 entries, 0 to 28\n",
            "Data columns (total 24 columns):\n",
            " #   Column           Non-Null Count  Dtype  \n",
            "---  ------           --------------  -----  \n",
            " 0   last_ais_update  0 non-null      object \n",
            " 1   legacy_id        22 non-null     object \n",
            " 2   model            3 non-null      object \n",
            " 3   type             29 non-null     object \n",
            " 4   roles            29 non-null     object \n",
            " 5   imo              21 non-null     float64\n",
            " 6   mmsi             24 non-null     float64\n",
            " 7   abs              18 non-null     float64\n",
            " 8   class            18 non-null     float64\n",
            " 9   mass_kg          21 non-null     float64\n",
            " 10  mass_lbs         21 non-null     float64\n",
            " 11  year_built       26 non-null     float64\n",
            " 12  home_port        29 non-null     object \n",
            " 13  status           17 non-null     object \n",
            " 14  speed_kn         0 non-null      object \n",
            " 15  course_deg       0 non-null      object \n",
            " 16  latitude         2 non-null      float64\n",
            " 17  longitude        2 non-null      float64\n",
            " 18  link             24 non-null     object \n",
            " 19  image            26 non-null     object \n",
            " 20  name             29 non-null     object \n",
            " 21  active           29 non-null     bool   \n",
            " 22  launches         29 non-null     object \n",
            " 23  id               29 non-null     object \n",
            "dtypes: bool(1), float64(9), object(14)\n",
            "memory usage: 5.4+ KB\n"
          ]
        }
      ]
    },
    {
      "cell_type": "markdown",
      "source": [
        "## Paso 5\n",
        "\n",
        "Con la información anterior, en una celda markdown concluya cuales de las variables podrían ser utilizadas para un análisis y clasifíquelas entre variables cualitativas (categóricas) y cuantitativas (numéricas)."
      ],
      "metadata": {
        "id": "9IQqxVX_629d"
      }
    },
    {
      "cell_type": "markdown",
      "source": [
        "¡Claro! Aquí tienes una explicación más detallada de cada párrafo:\n",
        "\n",
        "**Variables Cualitativas (Categóricas):**\n",
        "\n",
        "Las variables **type**, **roles**, **home_port**, **status**, **active** y **launches** son tipos de datos categóricos que proporcionan información fundamental sobre las características y el estado de las naves espaciales. Por ejemplo, \"type\" indica el tipo de nave, como una nave de carga o una nave de exploración, mientras que \"status\" podría indicar si la nave está activa, inactiva o en proceso de mantenimiento. Estas variables son esenciales para comprender la diversidad de las naves, los roles que desempeñan, su estado operativo y los detalles de identificación, como su puerto base. La mayoría de estas variables tienen datos disponibles y son adecuadas para un estudio posterior.\n",
        "\n",
        "Por otro lado, se excluyen las variables **name**, **link**, **image**, **imo**, **mmsi**, **abs** y **id** debido a que están más orientadas a la identificación visual, la presentación de datos y la codificación de naves. Estos datos podrían ser útiles para identificar o referirse a una nave específica, pero no son esenciales para un análisis de las características de las naves espaciales. Además, se omite la variable **model** debido a la presencia de varios campos nulos, lo que dificulta su uso en el análisis.\n",
        "\n",
        "**Variables Cuantitativas (Numéricas):**\n",
        "\n",
        "Las variables **class**, **mass_kg**, **mass_lbs**, **year_built** y **course_deg** proporcionan información numérica sobre características físicas y temporales de las naves espaciales. Por ejemplo, \"mass_kg\" y \"mass_lbs\" indican la masa de la nave en kilogramos y libras respectivamente, mientras que \"year_built\" indica el año en que se construyó la nave. Estas variables son esenciales para análisis cuantitativos y pueden revelar tendencias o patrones importantes, como la evolución de la tecnología espacial a lo largo del tiempo.\n",
        "\n",
        "Sin embargo, se descartan las variables de **speed_kn**, **latitude**, **longitude** y **course_deg** debido a la falta de datos disponibles o a la presencia de un número significativo de campos nulos. Estas variables, que proporcionarían información sobre la velocidad, la ubicación y el rumbo de las naves, son cruciales para un análisis detallado, pero su ausencia de datos o la presencia de datos nulos las hace inadecuadas para su inclusión en el estudio."
      ],
      "metadata": {
        "id": "6kBBkgaE7N4Y"
      }
    },
    {
      "cell_type": "markdown",
      "source": [
        "## Paso 6\n",
        "\n",
        "Determine el total de naves y cuántas están activas."
      ],
      "metadata": {
        "id": "mB_3UWBN9dAn"
      }
    },
    {
      "cell_type": "code",
      "source": [
        "len(df.id.unique()) #cuenta las naves con el id"
      ],
      "metadata": {
        "colab": {
          "base_uri": "https://localhost:8080/"
        },
        "id": "IAF6uQlb9hTr",
        "outputId": "07e7ceae-217a-40dd-8d3a-5494ed7d0f94"
      },
      "execution_count": 4,
      "outputs": [
        {
          "output_type": "execute_result",
          "data": {
            "text/plain": [
              "29"
            ]
          },
          "metadata": {},
          "execution_count": 4
        }
      ]
    },
    {
      "cell_type": "code",
      "source": [
        "df.active.value_counts() #Indica cuales estan activas segun la columna \"active\""
      ],
      "metadata": {
        "colab": {
          "base_uri": "https://localhost:8080/"
        },
        "id": "-gMNcTWd-6Gb",
        "outputId": "94a08aa7-3639-4c81-cec8-c71e86b88b90"
      },
      "execution_count": 5,
      "outputs": [
        {
          "output_type": "execute_result",
          "data": {
            "text/plain": [
              "active\n",
              "True     15\n",
              "False    14\n",
              "Name: count, dtype: int64"
            ]
          },
          "metadata": {},
          "execution_count": 5
        }
      ]
    },
    {
      "cell_type": "markdown",
      "source": [
        "## Paso 7\n",
        "\n",
        "Visualice el histograma de los pesos de las naves en kg."
      ],
      "metadata": {
        "id": "lBsbmLOw_meM"
      }
    },
    {
      "cell_type": "code",
      "source": [
        "import matplotlib.pyplot as plt\n",
        "\n",
        "plt.figure(figsize=(10, 6))\n",
        "\n",
        "# Crear el histograma\n",
        "plt.hist(df.mass_kg, color='skyblue', label='Pesos de las naves en kg', bins=45, alpha=0.8, density=True)\n",
        "\n",
        "# Agregar la línea de la media\n",
        "mean_mass = df['mass_kg'].mean()\n",
        "plt.axvline(mean_mass, color='red', linestyle='--', linewidth=2, label=f'Media: {mean_mass:.2f} kg')\n",
        "\n",
        "# Títulos y etiquetas de los ejes\n",
        "plt.title('Distribución de los pesos de las naves espaciales')\n",
        "plt.xlabel('Peso en kg')\n",
        "plt.ylabel('Cuántos datos están en este rango de valores')\n",
        "plt.legend()\n",
        "\n",
        "# Mostrar cuadrícula\n",
        "plt.grid(True, linestyle='--', alpha=0.5)\n",
        "\n",
        "# Mostrar gráfico\n",
        "plt.show()\n"
      ],
      "metadata": {
        "colab": {
          "base_uri": "https://localhost:8080/",
          "height": 565
        },
        "id": "UT1mBB3s_sJs",
        "outputId": "d608a4a9-2ce3-453a-9b19-895f0e17f49c"
      },
      "execution_count": 6,
      "outputs": [
        {
          "output_type": "display_data",
          "data": {
            "text/plain": [
              "<Figure size 1000x600 with 1 Axes>"
            ],
            "image/png": "[encoded data removed]"
          },
          "metadata": {}
        }
      ]
    },
    {
      "cell_type": "code",
      "source": [
        "max1=df['mass_kg'].max()\n",
        "min1=df['mass_kg'].min()\n",
        "mean1=df['mass_kg'].mean()\n",
        "\n",
        "\n",
        "print (\"\\n\")\n",
        "print (\"Peso Máximo\",max1)\n",
        "print (\"Peso Minimo\",min1)\n",
        "print (\"Peso promedio\",mean1)\n"
      ],
      "metadata": {
        "colab": {
          "base_uri": "https://localhost:8080/"
        },
        "id": "va3ThXILiCQn",
        "outputId": "91da7b77-644d-4255-9a44-ed79a4a412b2"
      },
      "execution_count": 8,
      "outputs": [
        {
          "output_type": "stream",
          "name": "stdout",
          "text": [
            "\n",
            "\n",
            "Peso Máximo 4616663.0\n",
            "Peso Minimo 89811.0\n",
            "Peso promedio 916838.0952380953\n"
          ]
        }
      ]
    },
    {
      "cell_type": "markdown",
      "source": [
        "**Analisis Histograma**\n",
        "\n",
        " Dado que la distribución está sesgada hacia la izquierda, indicando que hay algunas naves espaciales con pesos considerablemente más altos que el promedio, lo que aumenta el valor de la media.\n",
        "\n",
        "La diferencia entre el peso máximo (4,616,663.0 kg) y el peso mínimo (89,811.0 kg) es bastante grande, lo que indica una amplia variabilidad en los pesos de las naves espaciales en el conjunto de datos.\n",
        "\n",
        "Para idententificar los factores que contribuyen a la variabilidad en los pesos de las naves espaciales, como el tamaño, la capacidad de carga, el propósito de la misión, el tipo de nave, entre otros. Se podria realizar un análisis identificando patrones o correlaciones entre estos factores y los pesos de las naves.\n"
      ],
      "metadata": {
        "id": "NwajhlsCggR5"
      }
    },
    {
      "cell_type": "markdown",
      "source": [
        "# Conclusiones\n",
        "\n",
        "Nuestro análisis exploratorio de datos de las naves de SpaceX ha sido un ejercicio en el que hemos aplicado diversas técnicas y herramientas de análisis de datos, incluyendo el acceso a fuentes externas a través de APIs, la manipulación de datos utilizando Pandas y la visualización de datos utilizando Matplotlib.\n",
        "\n",
        "ESe identifico la aplicabilidad de la biblioteca requests de Python para acceder a datos externos a través de APIs web. Al utilizar el método get de la biblioteca requests, pudimos realizar solicitudes HTTP a la API pública de SpaceX y obtener datos detallados sobre las naves de la compañía. Esta función es de bastante importancia para poder tener acceso a diferntes bases de las cuales no tenemos acceso localmente y se pueden trabajar en tiempo real.\n",
        "\n",
        "Una vez obtenidos los datos en formato JSON, los convertimos en un DataFrame de Pandas utilizando la función pd.DataFrame.from_dict(). Esta conversión nos permitió manipular y analizar los datos en filas y columnas, lo cual lo hace más conveniente para poder analizar la información del dataset\n",
        "\n",
        "Se identificamos diferentes tipos de variables en nuestro DataFrame. Utilizando técnicas de info, pudimos clasificar estas variables en cuantitativasy categóricas. Este proceso nos permitió comprender mejor la naturaleza de nuestros datos.\n",
        "\n",
        "Una de las técnicas de visualización utilizadas fue la creación de un histograma para explorar la distribución de la masa de las naves en kilogramos. Este histograma nos proporcionó información valiosa sobre la dispersión y la forma de la distribución de la masa."
      ],
      "metadata": {
        "id": "8_cLunx6F8jl"
      }
    },
    {
      "cell_type": "markdown",
      "source": [
        "## Referencias\n",
        "\n",
        "1.  Idris, I. (2014). Python Data Analysis. Packt Publishing. (pp. 131-134).\n",
        "2. Samir Madhavan. (2015). Mastering Python for Data Science: Explore the World of Data Science Through Python and Learn How to Make Sense of Data. Packt Publishing. (pp. 11-12).\n"
      ],
      "metadata": {
        "id": "cfZ3_-Ryp5Tq"
      }
    }
  ]
}