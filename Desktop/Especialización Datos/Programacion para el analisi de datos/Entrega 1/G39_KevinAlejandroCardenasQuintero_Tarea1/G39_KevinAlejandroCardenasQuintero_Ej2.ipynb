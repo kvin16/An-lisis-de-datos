{
 "cells": [
  {
   "cell_type": "markdown",
   "id": "5adc08c8",
   "metadata": {},
   "source": [
    "\n",
    " # Programación para el Análisis de Datos\n",
    " ### Tarea 1\n",
    " ### Presentado por: Kevin Alejandro Cardenas Quintero\n",
    " ### Grupo 39\n",
    " ### Código: 203008069\n",
    " ### Presentado a: Felipe Alexander Pipicano Guzman\n",
    " ### Universidad Nacional Abierta y a Distancia - UNAD\n",
    " ### 03 de Marzo 2024"
   ]
  },
  {
   "cell_type": "markdown",
   "id": "7a4112d8",
   "metadata": {},
   "source": [
    "## Ejercicio 2"
   ]
  },
  {
   "cell_type": "markdown",
   "id": "d9c036ab-b98c-4d65-94de-9483ef115f1e",
   "metadata": {},
   "source": [
    "## Definiciones\n",
    "\n",
    "### Arreglos:\n",
    "\n",
    "En el contexto de la programación, un arreglo es una estructura de datos que contiene una colección de elementos del mismo tipo, organizados en una secuencia indexada. Los arreglos pueden ser unidimensionales (vectores), bidimensionales (matrices) o multidimensionales. En algunos lenguajes de programación, como Python, los arreglos pueden ser implementados utilizando listas, tuplas o arreglos específicos de bibliotecas como NumPy.\n",
    "\n",
    "### Vectores:\n",
    "\n",
    "Un \"vector\" es una entidad matemática que representa una cantidad con magnitud y dirección. En el contexto de la programación y la matemática computacional, un vector se refiere comúnmente a una secuencia ordenada de elementos numéricos, que puede ser unidimensional.\n",
    "\n",
    "Un vector es una colección ordenada de números, conocidos como componentes o elementos del vector. Puede ser representado como:\n",
    "\n",
    " $$\n",
    "\\mathbf{v} = \\begin{pmatrix}\n",
    "v_1 \\\\\n",
    "v_2 \\\\\n",
    "\\vdots \\\\\n",
    "v_n\n",
    "\\end{pmatrix}\n",
    " $$\n",
    "\n",
    "donde  $$ v_1, v_2, \\ldots, v_n  $$ son los elementos del vector. Los vectores son una forma específica de arreglos unidimensionales que se utilizan para representar cantidades direccionales o magnitudes en álgebra lineal y geometría. En Python, los vectores se pueden representar utilizando la biblioteca NumPy.\n",
    "\n",
    "### Matrices:\n",
    "\n",
    "Una matriz es una disposición rectangular de números, símbolos o expresiones, dispuestos en filas y columnas. Las matrices se utilizan en una amplia variedad de aplicaciones, desde la resolución de sistemas de ecuaciones lineales hasta el análisis de datos en la ciencia de datos y la ingeniería. Las matrices pueden sumarse, restarse y multiplicarse entre sí, y se pueden multiplicar por escalares (números). La multiplicación de matrices tiene propiedades específicas, como la propiedad asociativa, distributiva y la existencia de la identidad y la inversa para algunas matrices.\n",
    "\n",
    "Una matriz puede ser representada como:\n",
    "\n",
    " $$\n",
    "\\mathbf{A} = \\begin{pmatrix}\n",
    "a_{11} & a_{12} & \\cdots & a_{1m} \\\\\n",
    "a_{21} & a_{22} & \\cdots & a_{2m} \\\\\n",
    "\\vdots & \\vdots & \\ddots & \\vdots \\\\\n",
    "a_{n1} & a_{n2} & \\cdots & a_{nm}\n",
    "\\end{pmatrix}\n",
    " $$\n",
    "\n",
    "donde  $ a_{ij}  $ representa el elemento en la fila  $ i  $ y la columna  $ j  $ de la matriz.\n",
    "\n",
    "## Operaciones con Vectores y Matrices\n",
    "\n",
    "### Suma de Vectores y Matrices\n",
    "\n",
    "La suma de dos vectores o matrices del mismo tamaño se realiza sumando componente por componente:\n",
    "\n",
    " $$\n",
    "\\mathbf{v} + \\mathbf{w} = \\begin{pmatrix}\n",
    "v_1 + w_1 \\\\\n",
    "v_2 + w_2 \\\\\n",
    "\\vdots \\\\\n",
    "v_n + w_n\n",
    "\\end{pmatrix}\n",
    " $$\n",
    "\n",
    " $$\n",
    "\\mathbf{A} + \\mathbf{B} = \\begin{pmatrix}\n",
    "a_{11} + b_{11} & a_{12} + b_{12} & \\cdots & a_{1m} + b_{1m} \\\\\n",
    "a_{21} + b_{21} & a_{22} + b_{22} & \\cdots & a_{2m} + b_{2m} \\\\\n",
    "\\vdots & \\vdots & \\ddots & \\vdots \\\\\n",
    "a_{n1} + b_{n1} & a_{n2} + b_{n2} & \\cdots & a_{nm} + b_{nm}\n",
    "\\end{pmatrix}\n",
    " $$\n",
    "\n",
    "### Producto Punto (Producto Escalar)\n",
    "\n",
    "El producto punto entre dos vectores de la misma dimensión se calcula multiplicando componente por componente y sumando los resultados:\n",
    "\n",
    " $$\n",
    "\\mathbf{v} \\cdot \\mathbf{w} = v_1w_1 + v_2w_2 + \\ldots + v_nw_n\n",
    " $$\n",
    "\n",
    "### Producto Cruz (Producto Vectorial)\n",
    "\n",
    "El producto cruz entre dos vectores tridimensionales produce un vector que es perpendicular a los vectores originales:\n",
    "\n",
    " $$\n",
    "\\mathbf{v} \\times \\mathbf{w} = \\begin{pmatrix}\n",
    "v_2w_3 - v_3w_2 \\\\\n",
    "v_3w_1 - v_1w_3 \\\\\n",
    "v_1w_2 - v_2w_1\n",
    "\\end{pmatrix}\n",
    " $$\n",
    "\n",
    "### Matriz Transpuesta\n",
    "\n",
    "La matriz transpuesta se obtiene intercambiando filas por columnas:\n",
    "\n",
    " $$\n",
    "\\mathbf{A}^T = \\begin{pmatrix}\n",
    "a_{11} & a_{21} & \\cdots & a_{n1} \\\\\n",
    "a_{12} & a_{22} & \\cdots & a_{n2} \\\\\n",
    "\\vdots & \\vdots & \\ddots & \\vdots \\\\\n",
    "a_{1m} & a_{2m} & \\cdots & a_{nm}\n",
    "\\end{pmatrix}\n",
    "$$\n",
    "\n",
    "\n",
    "\n",
    "\n",
    "\n",
    "\n",
    "### Multiplicación de Matrices\n",
    "\n",
    "La multiplicación de matrices es una operación fundamental en álgebra lineal que combina los elementos de dos matrices para producir una tercera matriz. Para que dos matrices puedan multiplicarse, el número de columnas de la primera matriz debe ser igual al número de filas de la segunda matriz.\n",
    "\n",
    "Sean$ \\mathbf{A} $ y$ \\mathbf{B} $ dos matrices, donde$ \\mathbf{A} $ es una matriz de tamaño$ n \\times m $ y$ \\mathbf{B} $ es una matriz de tamaño$ m \\times p $. El producto de$ \\mathbf{A} $ y$ \\mathbf{B} $, denotado como$ \\mathbf{A} \\times \\mathbf{B} $, es una matriz$ n \\times p $ donde cada entrada$ c_{ij} $ se calcula como la suma de los productos de los elementos de la fila $ i $ de$ \\mathbf{A} $ por los elementos correspondientes de la columna$ j $ de $ \\mathbf{B} $.\n",
    "\n",
    "En general, la entrada $ c_{ij} $ de la matriz resultante se calcula como:\n",
    "\n",
    "$$ c_{ij} = a_{i1}b_{1j} + a_{i2}b_{2j} + \\ldots + a_{im}b_{mj} $$\n",
    "\n",
    "donde $ a_{ik} $ representa el elemento en la fila$ i $ y la columna$ k $ de la matriz$ \\mathbf{A} $, y$ b_{kj} $ representa el elemento en la fila$ k $ y la columna $ j $ de la matriz$ \\mathbf{B} $.\n",
    "\n",
    "La matriz resultante $ \\mathbf{C} $ será de tamaño $n$."
   ]
  },
  {
   "cell_type": "markdown",
   "id": "771907ab",
   "metadata": {},
   "source": [
    "### Descripción del ejercicio:\n",
    "\n",
    "Desarrolle códigos para ejecutar las siguientes tareas:\n",
    "\n",
    "• Construya la siguiente matriz como un arreglo de numpy:\n",
    "\n",
    " $$\n",
    "\\mathbf{A} = \\begin{pmatrix}\n",
    "13 & 1\\\\\n",
    "14 & 1\\\\\n",
    "15 & 1\\\\\n",
    "16 & 1\\\\\n",
    "17 & 1\\\\\n",
    "18 & 1\n",
    "\\end{pmatrix}\n",
    " $$\n",
    "   \n",
    "• Construya el siguiente vector como arreglo de numpy:\n",
    "\n",
    " $$\n",
    "\\mathbf{b} = \\begin{pmatrix}\n",
    "16 \\\\\n",
    "24 \\\\\n",
    "45 \\\\\n",
    "57 \\\\\n",
    "75 \\\\\n",
    "102\n",
    "\\end{pmatrix}\n",
    " $$\n",
    "\n",
    "• Calcule el siguiente vector x, usando operaciones de matrices (dot, transpose, inv) de numpy.linalg:\n",
    "\n",
    "$$ 𝑥 = (𝐴T𝐴)(-1) 𝐴T𝑏 $$\n",
    "\n",
    "y calcule $ ‖𝐴𝑥 − 𝑏‖$ utilizando la función numpy.linalg.norm.\n",
    "\n",
    "• Solucione el siguiente sistema de ecuaciones, mediante la función numpy.linalg.solve (de ser necesario, investigue la función en la documentación de numpy):\n",
    "\n",
    "$$(𝐴T𝐴)𝑥 = 𝐴T𝑏$$\n",
    "\n",
    "y calcule $‖𝐴𝑥 − 𝑏‖$ utilizando la función numpy.linalg.norm.\n",
    "\n",
    "• Solucione el siguiente sistema de ecuaciones, mediante la función numpy.linalg.lstsq (de ser necesario, investigue la función en la documentación de numpy):\n",
    "$$𝐴𝑥 = 𝑏$$\n",
    "y calcule $‖𝐴𝑥 − 𝑏‖$ utilizando la función numpy.linalg.norm.\n",
    "\n",
    "• Compare todos los resultados obtenidos y anexe una discusión en el análisis de resultados."
   ]
  },
  {
   "cell_type": "markdown",
   "id": "f47848ad",
   "metadata": {},
   "source": [
    "### Paso 1\n",
    "• Construya la siguiente matriz como un arreglo de numpy:\n",
    "\n",
    " $$\n",
    "\\mathbf{A} = \\begin{pmatrix}\n",
    "13 & 1\\\\\n",
    "14 & 1\\\\\n",
    "15 & 1\\\\\n",
    "16 & 1\\\\\n",
    "17 & 1\\\\\n",
    "18 & 1\n",
    "\\end{pmatrix}\n",
    " $$"
   ]
  },
  {
   "cell_type": "code",
   "execution_count": 4,
   "id": "96165a30",
   "metadata": {},
   "outputs": [],
   "source": [
    "import numpy as np"
   ]
  },
  {
   "cell_type": "code",
   "execution_count": 5,
   "id": "ea3b6444",
   "metadata": {
    "scrolled": true
   },
   "outputs": [],
   "source": [
    "A = np.array([[13, 1], [14, 1],[15, 1],[16, 1],[17, 1],[18, 1]])"
   ]
  },
  {
   "cell_type": "code",
   "execution_count": 6,
   "id": "489d64d0",
   "metadata": {},
   "outputs": [
    {
     "data": {
      "text/plain": [
       "array([[13,  1],\n",
       "       [14,  1],\n",
       "       [15,  1],\n",
       "       [16,  1],\n",
       "       [17,  1],\n",
       "       [18,  1]])"
      ]
     },
     "execution_count": 6,
     "metadata": {},
     "output_type": "execute_result"
    }
   ],
   "source": [
    "A"
   ]
  },
  {
   "cell_type": "markdown",
   "id": "1b2f921f-e20d-414d-8582-34716165ef12",
   "metadata": {},
   "source": [
    "### Paso 2\n",
    "\n",
    "• Construya el siguiente vector como arreglo de numpy:\n",
    "\n",
    " $$\n",
    "\\mathbf{b} = \\begin{pmatrix}\n",
    "16 \\\\\n",
    "24 \\\\\n",
    "45 \\\\\n",
    "57 \\\\\n",
    "75 \\\\\n",
    "102\n",
    "\\end{pmatrix}\n",
    " $$"
   ]
  },
  {
   "cell_type": "code",
   "execution_count": 7,
   "id": "a85f3955-866b-4e77-b877-714ee69a1e3b",
   "metadata": {},
   "outputs": [],
   "source": [
    "b = np.array([[16], [24], [45], [57], [75], [102]])"
   ]
  },
  {
   "cell_type": "code",
   "execution_count": 8,
   "id": "e75d8ce5-ad45-4259-b0b4-d361ddcdb185",
   "metadata": {},
   "outputs": [
    {
     "data": {
      "text/plain": [
       "array([[ 16],\n",
       "       [ 24],\n",
       "       [ 45],\n",
       "       [ 57],\n",
       "       [ 75],\n",
       "       [102]])"
      ]
     },
     "execution_count": 8,
     "metadata": {},
     "output_type": "execute_result"
    }
   ],
   "source": [
    "b"
   ]
  },
  {
   "cell_type": "markdown",
   "id": "fe5050f3-3089-43b6-889e-c250c48bb798",
   "metadata": {},
   "source": [
    "### Paso 3\n",
    "\n",
    "• Calcule el siguiente vector x, usando operaciones de matrices (dot, transpose, inv) de numpy.linalg:\n",
    "\n",
    "$$𝑥 = ((𝐴^T𝐴)^-1𝐴^T𝑏$$\n",
    "\n",
    "y calcule $‖𝐴𝑥 − 𝑏‖$ utilizando la función numpy.linalg.norm."
   ]
  },
  {
   "cell_type": "code",
   "execution_count": 9,
   "id": "369a4d95-0371-407d-a213-a34fede547b5",
   "metadata": {},
   "outputs": [],
   "source": [
    "A_transpose = np.transpose(A)\n",
    "A_transpose_A = np.dot(A_transpose, A)\n",
    "A_transpose_A_inv = np.linalg.inv(A_transpose_A)\n",
    "A_transpose_b = np.dot(A_transpose, b)\n",
    "\n",
    "x1 = np.dot(A_transpose_A_inv, A_transpose_b)"
   ]
  },
  {
   "cell_type": "code",
   "execution_count": 10,
   "id": "70084220-f5d6-420c-bb59-ec3174d6f8f7",
   "metadata": {},
   "outputs": [
    {
     "data": {
      "text/plain": [
       "array([[  17.        ],\n",
       "       [-210.33333333]])"
      ]
     },
     "execution_count": 10,
     "metadata": {},
     "output_type": "execute_result"
    }
   ],
   "source": [
    "x1"
   ]
  },
  {
   "cell_type": "code",
   "execution_count": 11,
   "id": "339fac58-9660-4bf4-9d6c-7a685c0c5044",
   "metadata": {},
   "outputs": [],
   "source": [
    "Ax1 = np.dot(A, x1)\n",
    "diferencia = Ax1 - b\n",
    "valor = np.linalg.norm(diferencia)"
   ]
  },
  {
   "cell_type": "code",
   "execution_count": 12,
   "id": "f01a98d7-44f5-4d46-8b34-2a43c0bb1273",
   "metadata": {},
   "outputs": [
    {
     "data": {
      "text/plain": [
       "10.83205120618128"
      ]
     },
     "execution_count": 12,
     "metadata": {},
     "output_type": "execute_result"
    }
   ],
   "source": [
    "valor"
   ]
  },
  {
   "cell_type": "markdown",
   "id": "369ce50b-687a-4bf2-88f0-e253231b2353",
   "metadata": {},
   "source": [
    "### Paso 4\n",
    "Solucione el siguiente sistema de ecuaciones, mediante la función numpy.linalg.solve (de ser necesario, investigue la función en la documentación de numpy):\n",
    "\n",
    "$$(𝐴T𝐴)𝑥 = 𝐴T𝑏$$\n",
    "\n",
    "y calcule $‖𝐴𝑥 − 𝑏‖ $utilizando la función numpy.linalg.norm.\n"
   ]
  },
  {
   "cell_type": "code",
   "execution_count": 13,
   "id": "71065369-0ff9-4b7d-89a9-5f2c929b8557",
   "metadata": {},
   "outputs": [],
   "source": [
    "x2 = np.linalg.solve(A_transpose_A, A_transpose_b)"
   ]
  },
  {
   "cell_type": "code",
   "execution_count": 14,
   "id": "91894f19-3b02-4da8-bf30-9377db5555cb",
   "metadata": {},
   "outputs": [
    {
     "data": {
      "text/plain": [
       "array([[  17.        ],\n",
       "       [-210.33333333]])"
      ]
     },
     "execution_count": 14,
     "metadata": {},
     "output_type": "execute_result"
    }
   ],
   "source": [
    "x2"
   ]
  },
  {
   "cell_type": "code",
   "execution_count": 15,
   "id": "2db76025-59e2-4209-9612-27663e8eaccc",
   "metadata": {},
   "outputs": [],
   "source": [
    "Ax2 = np.dot(A, x2)\n",
    "diferencia = Ax2 - b\n",
    "valor2 = np.linalg.norm(diferencia)"
   ]
  },
  {
   "cell_type": "code",
   "execution_count": 16,
   "id": "9b3de204-a77f-4ffd-aff1-dcec4d46a806",
   "metadata": {},
   "outputs": [
    {
     "data": {
      "text/plain": [
       "10.832051206181271"
      ]
     },
     "execution_count": 16,
     "metadata": {},
     "output_type": "execute_result"
    }
   ],
   "source": [
    "valor2"
   ]
  },
  {
   "cell_type": "markdown",
   "id": "c5a7a29e-e364-4387-8e6e-1292317f36c0",
   "metadata": {},
   "source": [
    "### Paso 5\n",
    "\n",
    "Solucione el siguiente sistema de ecuaciones, mediante la función numpy.linalg.lstsq (de ser necesario, investigue la función en la documentación de numpy):\n",
    "\n",
    "$$𝐴𝑥 = 𝑏$$\n",
    "\n",
    "y calcule $‖𝐴𝑥 − 𝑏‖$ utilizando la función numpy.linalg.norm.\n"
   ]
  },
  {
   "cell_type": "code",
   "execution_count": 17,
   "id": "9f7bc01d-835c-43d5-95c2-bd33995268d1",
   "metadata": {},
   "outputs": [],
   "source": [
    "x3, residuals, rank, s = np.linalg.lstsq(A, b, rcond=None)"
   ]
  },
  {
   "cell_type": "code",
   "execution_count": 18,
   "id": "9137bded-e6b3-4aa5-8630-b0a301da4d2f",
   "metadata": {},
   "outputs": [
    {
     "data": {
      "text/plain": [
       "array([[  17.        ],\n",
       "       [-210.33333333]])"
      ]
     },
     "execution_count": 18,
     "metadata": {},
     "output_type": "execute_result"
    }
   ],
   "source": [
    "x3"
   ]
  },
  {
   "cell_type": "code",
   "execution_count": 19,
   "id": "e78560e3-013b-41a1-898a-38d5b90147ee",
   "metadata": {},
   "outputs": [],
   "source": [
    "Ax3 = np.dot(A, x3)\n",
    "diferencia = Ax3 - b\n",
    "valor3 = np.linalg.norm(diferencia)"
   ]
  },
  {
   "cell_type": "code",
   "execution_count": 20,
   "id": "3d626d91-48fd-42c8-8698-e47389b59863",
   "metadata": {},
   "outputs": [
    {
     "data": {
      "text/plain": [
       "10.832051206181276"
      ]
     },
     "execution_count": 20,
     "metadata": {},
     "output_type": "execute_result"
    }
   ],
   "source": [
    "valor3"
   ]
  },
  {
   "cell_type": "markdown",
   "id": "404aeb7a-89ae-490a-8a1b-0c8c641f9f20",
   "metadata": {},
   "source": [
    "## Análisis de resultados\n",
    "\n",
    "\r\n",
    "1. **Matrices resultantes**: En los tres procesos, la matriz resultanteisma estructura. Parece que independientemente del proceso, la matriz resultante es:\r\n",
    "   ```\r\n",
    "   [[  17.        ],\r\n",
    "    [-210.33333333]]\r\n",
    "   ```\r\n",
    "   Esto sugiere que el proceso aplicado a la matriz \\( A \\) y al vector \\( b \\) produce consistentemente la misma solución.\r\n",
    "\r\n",
    "2. **Valor de error \\( x \\)**: El valor de error en los tres casos es muy similar, con ligeras variaciones en la precisión debido a la forma en que se han calculado o redondeado los números. Sin embargo, la diferencia es muy pequeña, lo que sugiere que los tres procesos están produciendo resultados muy cercanos  efectivos en este contexto particular."
   ]
  },
  {
   "cell_type": "markdown",
   "id": "5c688dc5-bd2a-4bd4-a2c5-67ef5de41483",
   "metadata": {
    "jp-MarkdownHeadingCollapsed": true
   },
   "source": [
    "## Conclusiones\n",
    "\n",
    "Dado que los resultados son consistentes en términos de la matriz resultante y el valor de error, podemos inferir que los tres procesos aplicados a la matriz \\(A\\) y al vector \\(b\\) son equivalentes o muy similares en términos de su efecto en el resultado. La ligera variación en el valor de error puede ser atribuible a diferencias en el método de cálculo o redondeo en los diferentes procesos.\n",
    "\n",
    "\n"
   ]
  },
  {
   "cell_type": "markdown",
   "id": "570086bc-4dd5-49b8-837e-f560ce634857",
   "metadata": {},
   "source": [
    "## Referencias\n",
    "\n",
    "Thakur, A. (2016). Python: Real-World Data Science. Packt Publishing. (pp. 491 - 508).\n"
   ]
  }
 ],
 "metadata": {
  "kernelspec": {
   "display_name": "Python 3 (ipykernel)",
   "language": "python",
   "name": "python3"
  },
  "language_info": {
   "codemirror_mode": {
    "name": "ipython",
    "version": 3
   },
   "file_extension": ".py",
   "mimetype": "text/x-python",
   "name": "python",
   "nbconvert_exporter": "python",
   "pygments_lexer": "ipython3",
   "version": "3.11.7"
  }
 },
 "nbformat": 4,
 "nbformat_minor": 5
}
